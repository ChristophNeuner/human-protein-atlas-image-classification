{
 "cells": [
  {
   "cell_type": "markdown",
   "metadata": {},
   "source": [
    "# imports and params"
   ]
  },
  {
   "cell_type": "code",
   "execution_count": 1,
   "metadata": {},
   "outputs": [],
   "source": [
    "#https://www.kaggle.com/allunia/protein-atlas-exploration-and-baseline\n",
    "#https://www.kaggle.com/allunia/in-depth-protein-correlations"
   ]
  },
  {
   "cell_type": "code",
   "execution_count": 2,
   "metadata": {},
   "outputs": [],
   "source": [
    "%reload_ext autoreload\n",
    "%autoreload 2\n",
    "%matplotlib inline\n",
    "\n",
    "import os\n",
    "os.sys.path.append('../fastai/') #fastai version 1\n",
    "import fastai\n",
    "from fastai import *\n",
    "\n",
    "from pathlib import Path\n",
    "import numpy as np\n",
    "import pandas as pd\n",
    "import matplotlib.pyplot as plt\n",
    "import cv2\n",
    "import uuid\n",
    "\n",
    "import seaborn as sns\n",
    "sns.set()\n",
    "\n",
    "\n",
    "DP = Path('/home/Deep_Learner/work/network/datasets/human-protein-atlas-image-classification/')\n",
    "DP_FULL = Path('/home/Deep_Learner/shared/Datasets/human-protein-atlas-image-classification/')\n",
    "STAGE_ONE_DATA = DP/'stage1_data'\n",
    "TRAIN_PNGS = 'train_pngs_512'\n",
    "TRAIN_PNGS_FULL = 'train_pngs_full_size'\n",
    "TRAIN_PNGS_MULTI = 'train_pngs_512_oversampled'\n",
    "TEST_PNGS = 'test_pngs_512'\n",
    "TEST_PNGS_FULL = 'test_pngs_full_size'\n",
    "TRAIN_CSV = 'train.csv'\n",
    "TRAIN_CSV_MULTI = 'train_oversampled_only.csv'\n",
    "TRAIN_CSV_MULTI_AND_ORIG = 'train_oversampled_and_original.csv'\n",
    "LBS_BALANCED = 'lbs_balanced.csv'\n",
    "EXTRA_HPA_DATA_CSV = STAGE_ONE_DATA/'extra_data.csv'\n",
    "EXTRA_HPA_DATA_WITHOUT_BROKEN_AND_MISSING_CSV = STAGE_ONE_DATA/'extra_data_without_broken_and_missing_pngs_512.csv'\n",
    "BASE_AND_EXTRA_CSV = STAGE_ONE_DATA/'base_and_extra_data_without_broken_and_missing.csv'\n",
    "EXTRA_DATA_PNGS = STAGE_ONE_DATA/'extra_HPAv18_pngs_512'\n",
    "\n",
    "label_names = {\n",
    "    0:  \"Nucleoplasm\",  \n",
    "    1:  \"Nuclear membrane\",   \n",
    "    2:  \"Nucleoli\",   \n",
    "    3:  \"Nucleoli fibrillar center\",   \n",
    "    4:  \"Nuclear speckles\",\n",
    "    5:  \"Nuclear bodies\",   \n",
    "    6:  \"Endoplasmic reticulum\",   \n",
    "    7:  \"Golgi apparatus\",   \n",
    "    8:  \"Peroxisomes\",   \n",
    "    9:  \"Endosomes\",   \n",
    "    10:  \"Lysosomes\",   \n",
    "    11:  \"Intermediate filaments\",   \n",
    "    12:  \"Actin filaments\",   \n",
    "    13:  \"Focal adhesion sites\",   \n",
    "    14:  \"Microtubules\",   \n",
    "    15:  \"Microtubule ends\",   \n",
    "    16:  \"Cytokinetic bridge\",   \n",
    "    17:  \"Mitotic spindle\",   \n",
    "    18:  \"Microtubule organizing center\",   \n",
    "    19:  \"Centrosome\",   \n",
    "    20:  \"Lipid droplets\",   \n",
    "    21:  \"Plasma membrane\",   \n",
    "    22:  \"Cell junctions\",   \n",
    "    23:  \"Mitochondria\",   \n",
    "    24:  \"Aggresome\",   \n",
    "    25:  \"Cytosol\",   \n",
    "    26:  \"Cytoplasmic bodies\",   \n",
    "    27:  \"Rods & rings\"\n",
    "}\n",
    "\n",
    "reverse_label_names = dict((v,k) for k,v in label_names.items())\n",
    "sz = 512"
   ]
  },
  {
   "cell_type": "markdown",
   "metadata": {},
   "source": [
    "# Labels distrib."
   ]
  },
  {
   "cell_type": "markdown",
   "metadata": {},
   "source": [
    "## functions"
   ]
  },
  {
   "cell_type": "code",
   "execution_count": 33,
   "metadata": {},
   "outputs": [],
   "source": [
    "def fill_targets(row):\n",
    "    row.Target = np.array(row.Target.split(\" \")).astype(np.int)\n",
    "    for num in row.Target:\n",
    "        name = label_names[int(num)]\n",
    "        row.loc[name] = 1\n",
    "    return row\n",
    "\n",
    "def get_labels_distribution(df:pd.DataFrame):\n",
    "    df_copy = df.copy()\n",
    "    for key in label_names.keys():\n",
    "        df_copy[label_names[key]] = 0\n",
    "    df_copy = df_copy.apply(fill_targets, axis=1)\n",
    "    target_counts = df_copy.drop([\"Id\", \"Target\"],axis=1).sum(axis=0).sort_values(ascending=False)\n",
    "    plt.figure(figsize=(15,15))\n",
    "    sns.barplot(y=target_counts.index.values, x=target_counts.values, order=target_counts.index)\n",
    "    return target_counts"
   ]
  },
  {
   "cell_type": "markdown",
   "metadata": {},
   "source": [
    "## base data"
   ]
  },
  {
   "cell_type": "code",
   "execution_count": 3,
   "metadata": {},
   "outputs": [
    {
     "data": {
      "text/html": [
       "<div>\n",
       "<style scoped>\n",
       "    .dataframe tbody tr th:only-of-type {\n",
       "        vertical-align: middle;\n",
       "    }\n",
       "\n",
       "    .dataframe tbody tr th {\n",
       "        vertical-align: top;\n",
       "    }\n",
       "\n",
       "    .dataframe thead th {\n",
       "        text-align: right;\n",
       "    }\n",
       "</style>\n",
       "<table border=\"1\" class=\"dataframe\">\n",
       "  <thead>\n",
       "    <tr style=\"text-align: right;\">\n",
       "      <th></th>\n",
       "      <th>Id</th>\n",
       "      <th>Target</th>\n",
       "    </tr>\n",
       "  </thead>\n",
       "  <tbody>\n",
       "    <tr>\n",
       "      <th>0</th>\n",
       "      <td>00070df0-bbc3-11e8-b2bc-ac1f6b6435d0</td>\n",
       "      <td>16 0</td>\n",
       "    </tr>\n",
       "    <tr>\n",
       "      <th>1</th>\n",
       "      <td>000a6c98-bb9b-11e8-b2b9-ac1f6b6435d0</td>\n",
       "      <td>7 1 2 0</td>\n",
       "    </tr>\n",
       "    <tr>\n",
       "      <th>2</th>\n",
       "      <td>000a9596-bbc4-11e8-b2bc-ac1f6b6435d0</td>\n",
       "      <td>5</td>\n",
       "    </tr>\n",
       "    <tr>\n",
       "      <th>3</th>\n",
       "      <td>000c99ba-bba4-11e8-b2b9-ac1f6b6435d0</td>\n",
       "      <td>1</td>\n",
       "    </tr>\n",
       "    <tr>\n",
       "      <th>4</th>\n",
       "      <td>001838f8-bbca-11e8-b2bc-ac1f6b6435d0</td>\n",
       "      <td>18</td>\n",
       "    </tr>\n",
       "  </tbody>\n",
       "</table>\n",
       "</div>"
      ],
      "text/plain": [
       "                                     Id   Target\n",
       "0  00070df0-bbc3-11e8-b2bc-ac1f6b6435d0     16 0\n",
       "1  000a6c98-bb9b-11e8-b2b9-ac1f6b6435d0  7 1 2 0\n",
       "2  000a9596-bbc4-11e8-b2bc-ac1f6b6435d0        5\n",
       "3  000c99ba-bba4-11e8-b2b9-ac1f6b6435d0        1\n",
       "4  001838f8-bbca-11e8-b2bc-ac1f6b6435d0       18"
      ]
     },
     "execution_count": 3,
     "metadata": {},
     "output_type": "execute_result"
    }
   ],
   "source": [
    "train_labels = pd.read_csv(STAGE_ONE_DATA/TRAIN_CSV)\n",
    "train_labels.head()"
   ]
  },
  {
   "cell_type": "code",
   "execution_count": 5,
   "metadata": {},
   "outputs": [
    {
     "data": {
      "image/png": "[encoded data removed]",
      "text/plain": [
       "<Figure size 1080x1080 with 1 Axes>"
      ]
     },
     "metadata": {},
     "output_type": "display_data"
    }
   ],
   "source": [
    "target_counts = get_labels_distribution(train_labels)"
   ]
  },
  {
   "cell_type": "code",
   "execution_count": 6,
   "metadata": {
    "scrolled": true
   },
   "outputs": [
    {
     "data": {
      "text/plain": [
       "Nucleoplasm                      12885\n",
       "Cytosol                           8228\n",
       "Plasma membrane                   3777\n",
       "Nucleoli                          3621\n",
       "Mitochondria                      2965\n",
       "Golgi apparatus                   2822\n",
       "Nuclear bodies                    2513\n",
       "Nuclear speckles                  1858\n",
       "Nucleoli fibrillar center         1561\n",
       "Centrosome                        1482\n",
       "Nuclear membrane                  1254\n",
       "Intermediate filaments            1093\n",
       "Microtubules                      1066\n",
       "Endoplasmic reticulum             1008\n",
       "Microtubule organizing center      902\n",
       "Cell junctions                     802\n",
       "Actin filaments                    688\n",
       "Focal adhesion sites               537\n",
       "Cytokinetic bridge                 530\n",
       "Cytoplasmic bodies                 328\n",
       "Aggresome                          322\n",
       "Mitotic spindle                    210\n",
       "Lipid droplets                     172\n",
       "Peroxisomes                         53\n",
       "Endosomes                           45\n",
       "Lysosomes                           28\n",
       "Microtubule ends                    21\n",
       "Rods & rings                        11\n",
       "dtype: int64"
      ]
     },
     "execution_count": 6,
     "metadata": {},
     "output_type": "execute_result"
    }
   ],
   "source": [
    "target_counts"
   ]
  },
  {
   "cell_type": "markdown",
   "metadata": {},
   "source": [
    "## extra hpa data"
   ]
  },
  {
   "cell_type": "code",
   "execution_count": 35,
   "metadata": {},
   "outputs": [
    {
     "data": {
      "text/html": [
       "<div>\n",
       "<style scoped>\n",
       "    .dataframe tbody tr th:only-of-type {\n",
       "        vertical-align: middle;\n",
       "    }\n",
       "\n",
       "    .dataframe tbody tr th {\n",
       "        vertical-align: top;\n",
       "    }\n",
       "\n",
       "    .dataframe thead th {\n",
       "        text-align: right;\n",
       "    }\n",
       "</style>\n",
       "<table border=\"1\" class=\"dataframe\">\n",
       "  <thead>\n",
       "    <tr style=\"text-align: right;\">\n",
       "      <th></th>\n",
       "      <th>Id</th>\n",
       "      <th>Target</th>\n",
       "    </tr>\n",
       "  </thead>\n",
       "  <tbody>\n",
       "    <tr>\n",
       "      <th>0</th>\n",
       "      <td>10580_1610_C1_1</td>\n",
       "      <td>13 25 0 2 21</td>\n",
       "    </tr>\n",
       "    <tr>\n",
       "      <th>1</th>\n",
       "      <td>10580_1610_C1_2</td>\n",
       "      <td>13 25 0 2 21</td>\n",
       "    </tr>\n",
       "    <tr>\n",
       "      <th>2</th>\n",
       "      <td>10580_1756_B1_1</td>\n",
       "      <td>13 25 0 2 21</td>\n",
       "    </tr>\n",
       "    <tr>\n",
       "      <th>3</th>\n",
       "      <td>10580_1756_B1_2</td>\n",
       "      <td>13 25 0 2 21</td>\n",
       "    </tr>\n",
       "    <tr>\n",
       "      <th>4</th>\n",
       "      <td>10580_1758_B1_1</td>\n",
       "      <td>13 25 0 2 21</td>\n",
       "    </tr>\n",
       "  </tbody>\n",
       "</table>\n",
       "</div>"
      ],
      "text/plain": [
       "                Id        Target\n",
       "0  10580_1610_C1_1  13 25 0 2 21\n",
       "1  10580_1610_C1_2  13 25 0 2 21\n",
       "2  10580_1756_B1_1  13 25 0 2 21\n",
       "3  10580_1756_B1_2  13 25 0 2 21\n",
       "4  10580_1758_B1_1  13 25 0 2 21"
      ]
     },
     "execution_count": 35,
     "metadata": {},
     "output_type": "execute_result"
    }
   ],
   "source": [
    "extra_data_labels = pd.read_csv(EXTRA_HPA_DATA_WITHOUT_BROKEN_AND_MISSING_CSV)\n",
    "extra_data_labels.head()"
   ]
  },
  {
   "cell_type": "code",
   "execution_count": 36,
   "metadata": {},
   "outputs": [
    {
     "data": {
      "image/png": "[encoded data removed]",
      "text/plain": [
       "<Figure size 1080x1080 with 1 Axes>"
      ]
     },
     "metadata": {},
     "output_type": "display_data"
    }
   ],
   "source": [
    "extra_data_target_counts = get_labels_distribution(extra_data_labels)"
   ]
  },
  {
   "cell_type": "code",
   "execution_count": 37,
   "metadata": {
    "scrolled": true
   },
   "outputs": [
    {
     "data": {
      "text/plain": [
       "Cytosol                          29132\n",
       "Nucleoplasm                      28070\n",
       "Plasma membrane                  10032\n",
       "Mitochondria                      7380\n",
       "Nucleoli                          7249\n",
       "Golgi apparatus                   6581\n",
       "Nuclear bodies                    3424\n",
       "Nuclear speckles                  3271\n",
       "Endoplasmic reticulum             2715\n",
       "Centrosome                        2189\n",
       "Cell junctions                    1927\n",
       "Nuclear membrane                  1818\n",
       "Nucleoli fibrillar center         1768\n",
       "Microtubules                      1624\n",
       "Actin filaments                   1545\n",
       "Intermediate filaments            1100\n",
       "Microtubule organizing center      991\n",
       "Focal adhesion sites               921\n",
       "Cytokinetic bridge                 760\n",
       "Cytoplasmic bodies                 376\n",
       "Lipid droplets                     266\n",
       "Mitotic spindle                    236\n",
       "Peroxisomes                        164\n",
       "Lysosomes                          154\n",
       "Endosomes                          152\n",
       "Rods & rings                       116\n",
       "Aggresome                          105\n",
       "Microtubule ends                    42\n",
       "dtype: int64"
      ]
     },
     "execution_count": 37,
     "metadata": {},
     "output_type": "execute_result"
    }
   ],
   "source": [
    "extra_data_target_counts"
   ]
  },
  {
   "cell_type": "markdown",
   "metadata": {},
   "source": [
    "## base and extra data"
   ]
  },
  {
   "cell_type": "code",
   "execution_count": 6,
   "metadata": {},
   "outputs": [
    {
     "data": {
      "text/html": [
       "<div>\n",
       "<style scoped>\n",
       "    .dataframe tbody tr th:only-of-type {\n",
       "        vertical-align: middle;\n",
       "    }\n",
       "\n",
       "    .dataframe tbody tr th {\n",
       "        vertical-align: top;\n",
       "    }\n",
       "\n",
       "    .dataframe thead th {\n",
       "        text-align: right;\n",
       "    }\n",
       "</style>\n",
       "<table border=\"1\" class=\"dataframe\">\n",
       "  <thead>\n",
       "    <tr style=\"text-align: right;\">\n",
       "      <th></th>\n",
       "      <th>Id</th>\n",
       "      <th>Target</th>\n",
       "    </tr>\n",
       "  </thead>\n",
       "  <tbody>\n",
       "    <tr>\n",
       "      <th>0</th>\n",
       "      <td>00070df0-bbc3-11e8-b2bc-ac1f6b6435d0</td>\n",
       "      <td>16 0</td>\n",
       "    </tr>\n",
       "    <tr>\n",
       "      <th>1</th>\n",
       "      <td>000a6c98-bb9b-11e8-b2b9-ac1f6b6435d0</td>\n",
       "      <td>7 1 2 0</td>\n",
       "    </tr>\n",
       "    <tr>\n",
       "      <th>2</th>\n",
       "      <td>000a9596-bbc4-11e8-b2bc-ac1f6b6435d0</td>\n",
       "      <td>5</td>\n",
       "    </tr>\n",
       "    <tr>\n",
       "      <th>3</th>\n",
       "      <td>000c99ba-bba4-11e8-b2b9-ac1f6b6435d0</td>\n",
       "      <td>1</td>\n",
       "    </tr>\n",
       "    <tr>\n",
       "      <th>4</th>\n",
       "      <td>001838f8-bbca-11e8-b2bc-ac1f6b6435d0</td>\n",
       "      <td>18</td>\n",
       "    </tr>\n",
       "  </tbody>\n",
       "</table>\n",
       "</div>"
      ],
      "text/plain": [
       "                                     Id   Target\n",
       "0  00070df0-bbc3-11e8-b2bc-ac1f6b6435d0     16 0\n",
       "1  000a6c98-bb9b-11e8-b2b9-ac1f6b6435d0  7 1 2 0\n",
       "2  000a9596-bbc4-11e8-b2bc-ac1f6b6435d0        5\n",
       "3  000c99ba-bba4-11e8-b2b9-ac1f6b6435d0        1\n",
       "4  001838f8-bbca-11e8-b2bc-ac1f6b6435d0       18"
      ]
     },
     "execution_count": 6,
     "metadata": {},
     "output_type": "execute_result"
    }
   ],
   "source": [
    "base_extra_labels = pd.read_csv(BASE_AND_EXTRA_CSV)\n",
    "base_extra_labels.head()"
   ]
  },
  {
   "cell_type": "code",
   "execution_count": 7,
   "metadata": {},
   "outputs": [
    {
     "data": {
      "image/png": "[encoded data removed]",
      "text/plain": [
       "<Figure size 1080x1080 with 1 Axes>"
      ]
     },
     "metadata": {
      "needs_background": "light"
     },
     "output_type": "display_data"
    }
   ],
   "source": [
    "base_extra_target_counts = get_labels_distribution(base_extra_labels)"
   ]
  },
  {
   "cell_type": "code",
   "execution_count": 8,
   "metadata": {
    "scrolled": false
   },
   "outputs": [
    {
     "data": {
      "text/plain": [
       "Nucleoplasm                      40955\n",
       "Cytosol                          37360\n",
       "Plasma membrane                  13809\n",
       "Nucleoli                         10870\n",
       "Mitochondria                     10345\n",
       "Golgi apparatus                   9403\n",
       "Nuclear bodies                    5937\n",
       "Nuclear speckles                  5129\n",
       "Endoplasmic reticulum             3723\n",
       "Centrosome                        3671\n",
       "Nucleoli fibrillar center         3329\n",
       "Nuclear membrane                  3072\n",
       "Cell junctions                    2729\n",
       "Microtubules                      2690\n",
       "Actin filaments                   2233\n",
       "Intermediate filaments            2193\n",
       "Microtubule organizing center     1893\n",
       "Focal adhesion sites              1458\n",
       "Cytokinetic bridge                1290\n",
       "Cytoplasmic bodies                 704\n",
       "Mitotic spindle                    446\n",
       "Lipid droplets                     438\n",
       "Aggresome                          427\n",
       "Peroxisomes                        217\n",
       "Endosomes                          197\n",
       "Lysosomes                          182\n",
       "Rods & rings                       127\n",
       "Microtubule ends                    63\n",
       "dtype: int64"
      ]
     },
     "execution_count": 8,
     "metadata": {},
     "output_type": "execute_result"
    }
   ],
   "source": [
    "base_extra_target_counts"
   ]
  },
  {
   "cell_type": "markdown",
   "metadata": {},
   "source": [
    "## base_and_extra_data(only_cls:[8, 9, 10, 15, 17, 20, 24, 26, 27])_without_broken_and_missing_pngs_512.csv"
   ]
  },
  {
   "cell_type": "code",
   "execution_count": 83,
   "metadata": {},
   "outputs": [],
   "source": [
    "lab = pd.read_csv(STAGE_ONE_DATA/'base(all_cls)_and_extra_data(only_cls:[8, 9, 10, 15, 17, 20, 24, 26, 27])_without_broken_and_missing_pngs_512.csv')"
   ]
  },
  {
   "cell_type": "code",
   "execution_count": 84,
   "metadata": {},
   "outputs": [
    {
     "data": {
      "text/html": [
       "<div>\n",
       "<style scoped>\n",
       "    .dataframe tbody tr th:only-of-type {\n",
       "        vertical-align: middle;\n",
       "    }\n",
       "\n",
       "    .dataframe tbody tr th {\n",
       "        vertical-align: top;\n",
       "    }\n",
       "\n",
       "    .dataframe thead th {\n",
       "        text-align: right;\n",
       "    }\n",
       "</style>\n",
       "<table border=\"1\" class=\"dataframe\">\n",
       "  <thead>\n",
       "    <tr style=\"text-align: right;\">\n",
       "      <th></th>\n",
       "      <th>Id</th>\n",
       "      <th>Target</th>\n",
       "    </tr>\n",
       "  </thead>\n",
       "  <tbody>\n",
       "    <tr>\n",
       "      <th>0</th>\n",
       "      <td>00070df0-bbc3-11e8-b2bc-ac1f6b6435d0</td>\n",
       "      <td>16 0</td>\n",
       "    </tr>\n",
       "    <tr>\n",
       "      <th>1</th>\n",
       "      <td>000a6c98-bb9b-11e8-b2b9-ac1f6b6435d0</td>\n",
       "      <td>7 1 2 0</td>\n",
       "    </tr>\n",
       "    <tr>\n",
       "      <th>2</th>\n",
       "      <td>000a9596-bbc4-11e8-b2bc-ac1f6b6435d0</td>\n",
       "      <td>5</td>\n",
       "    </tr>\n",
       "    <tr>\n",
       "      <th>3</th>\n",
       "      <td>000c99ba-bba4-11e8-b2b9-ac1f6b6435d0</td>\n",
       "      <td>1</td>\n",
       "    </tr>\n",
       "    <tr>\n",
       "      <th>4</th>\n",
       "      <td>001838f8-bbca-11e8-b2bc-ac1f6b6435d0</td>\n",
       "      <td>18</td>\n",
       "    </tr>\n",
       "  </tbody>\n",
       "</table>\n",
       "</div>"
      ],
      "text/plain": [
       "                                     Id   Target\n",
       "0  00070df0-bbc3-11e8-b2bc-ac1f6b6435d0     16 0\n",
       "1  000a6c98-bb9b-11e8-b2b9-ac1f6b6435d0  7 1 2 0\n",
       "2  000a9596-bbc4-11e8-b2bc-ac1f6b6435d0        5\n",
       "3  000c99ba-bba4-11e8-b2b9-ac1f6b6435d0        1\n",
       "4  001838f8-bbca-11e8-b2bc-ac1f6b6435d0       18"
      ]
     },
     "execution_count": 84,
     "metadata": {},
     "output_type": "execute_result"
    }
   ],
   "source": [
    "lab.head()"
   ]
  },
  {
   "cell_type": "code",
   "execution_count": 87,
   "metadata": {},
   "outputs": [
    {
     "data": {
      "image/png": "[encoded data removed]",
      "text/plain": [
       "<Figure size 1080x1080 with 1 Axes>"
      ]
     },
     "metadata": {},
     "output_type": "display_data"
    }
   ],
   "source": [
    "counts = get_labels_distribution(lab)"
   ]
  },
  {
   "cell_type": "code",
   "execution_count": 88,
   "metadata": {},
   "outputs": [
    {
     "data": {
      "text/plain": [
       "Nucleoplasm                      13197\n",
       "Cytosol                           8632\n",
       "Plasma membrane                   3891\n",
       "Nucleoli                          3655\n",
       "Mitochondria                      2993\n",
       "Golgi apparatus                   2874\n",
       "Nuclear bodies                    2545\n",
       "Nuclear speckles                  1941\n",
       "Nucleoli fibrillar center         1591\n",
       "Centrosome                        1528\n",
       "Nuclear membrane                  1254\n",
       "Microtubules                      1128\n",
       "Intermediate filaments            1102\n",
       "Endoplasmic reticulum             1060\n",
       "Microtubule organizing center      960\n",
       "Cell junctions                     846\n",
       "Cytoplasmic bodies                 704\n",
       "Actin filaments                    700\n",
       "Cytokinetic bridge                 604\n",
       "Focal adhesion sites               537\n",
       "Mitotic spindle                    446\n",
       "Lipid droplets                     438\n",
       "Aggresome                          427\n",
       "Peroxisomes                        217\n",
       "Endosomes                          197\n",
       "Lysosomes                          182\n",
       "Rods & rings                       127\n",
       "Microtubule ends                    63\n",
       "dtype: int64"
      ]
     },
     "execution_count": 88,
     "metadata": {},
     "output_type": "execute_result"
    }
   ],
   "source": [
    "counts"
   ]
  },
  {
   "cell_type": "markdown",
   "metadata": {},
   "source": [
    "## Specify multiplication factors for oversampling"
   ]
  },
  {
   "cell_type": "code",
   "execution_count": 18,
   "metadata": {},
   "outputs": [
    {
     "name": "stdout",
     "output_type": "stream",
     "text": [
      "Peroxisomes x2\n",
      "Endosomes x2\n",
      "Lysosomes x3\n",
      "Microtubule ends x5\n",
      "Rods & rings x4\n"
     ]
    }
   ],
   "source": [
    "multi = [1,1,1,1,1,1,1,1,2,2,3,1,1,1,1,5,1,1,1,1,1,1,1,1,1,1,1,4]\n",
    "len(multi)\n",
    "\n",
    "rare_cls = []\n",
    "for n, i in enumerate(multi):\n",
    "    if i>1:\n",
    "        c = label_names[n]\n",
    "        print(f'{c} x{i}')\n",
    "        rare_cls.append(c)"
   ]
  },
  {
   "cell_type": "markdown",
   "metadata": {},
   "source": [
    "# Move only rare classes from extra data into new folder and create new csv"
   ]
  },
  {
   "cell_type": "code",
   "execution_count": 6,
   "metadata": {},
   "outputs": [
    {
     "data": {
      "text/html": [
       "<div>\n",
       "<style scoped>\n",
       "    .dataframe tbody tr th:only-of-type {\n",
       "        vertical-align: middle;\n",
       "    }\n",
       "\n",
       "    .dataframe tbody tr th {\n",
       "        vertical-align: top;\n",
       "    }\n",
       "\n",
       "    .dataframe thead th {\n",
       "        text-align: right;\n",
       "    }\n",
       "</style>\n",
       "<table border=\"1\" class=\"dataframe\">\n",
       "  <thead>\n",
       "    <tr style=\"text-align: right;\">\n",
       "      <th></th>\n",
       "      <th>Id</th>\n",
       "      <th>Target</th>\n",
       "    </tr>\n",
       "  </thead>\n",
       "  <tbody>\n",
       "  </tbody>\n",
       "</table>\n",
       "</div>"
      ],
      "text/plain": [
       "Empty DataFrame\n",
       "Columns: [Id, Target]\n",
       "Index: []"
      ]
     },
     "execution_count": 6,
     "metadata": {},
     "output_type": "execute_result"
    }
   ],
   "source": [
    "name = 'extra_data(only_cls:[8, 9, 10, 15, 17, 20, 24, 26, 27])_without_broken_and_missing_pngs_512'\n",
    "newFolder = STAGE_ONE_DATA/name\n",
    "newDfName = f'{name}.csv'\n",
    "newCombinedDfName = f'base(all_cls)_and_{name}.csv'\n",
    "newDf = pd.DataFrame(columns=['Id', 'Target']);newDf"
   ]
  },
  {
   "cell_type": "code",
   "execution_count": 70,
   "metadata": {},
   "outputs": [],
   "source": [
    "cls = [\"Microtubule ends\", \n",
    "           'Rods & rings',\n",
    "           'Cytoplasmic bodies',                 \n",
    "            'Mitotic spindle',                 \n",
    "            'Lipid droplets',                 \n",
    "            'Aggresome',                 \n",
    "            'Peroxisomes',                 \n",
    "            'Endosomes',                 \n",
    "            'Lysosomes']"
   ]
  },
  {
   "cell_type": "code",
   "execution_count": 71,
   "metadata": {},
   "outputs": [
    {
     "data": {
      "text/plain": [
       "[8, 9, 10, 15, 17, 20, 24, 26, 27]"
      ]
     },
     "execution_count": 71,
     "metadata": {},
     "output_type": "execute_result"
    }
   ],
   "source": [
    "ä=[]\n",
    "for c in cls:\n",
    "    ä.append(reverse_label_names[c])\n",
    "sorted(ä)"
   ]
  },
  {
   "cell_type": "code",
   "execution_count": 72,
   "metadata": {},
   "outputs": [
    {
     "data": {
      "text/html": [
       "<div>\n",
       "<style scoped>\n",
       "    .dataframe tbody tr th:only-of-type {\n",
       "        vertical-align: middle;\n",
       "    }\n",
       "\n",
       "    .dataframe tbody tr th {\n",
       "        vertical-align: top;\n",
       "    }\n",
       "\n",
       "    .dataframe thead th {\n",
       "        text-align: right;\n",
       "    }\n",
       "</style>\n",
       "<table border=\"1\" class=\"dataframe\">\n",
       "  <thead>\n",
       "    <tr style=\"text-align: right;\">\n",
       "      <th></th>\n",
       "      <th>Id</th>\n",
       "      <th>Target</th>\n",
       "    </tr>\n",
       "  </thead>\n",
       "  <tbody>\n",
       "    <tr>\n",
       "      <th>0</th>\n",
       "      <td>10580_1610_C1_1</td>\n",
       "      <td>13 25 0 2 21</td>\n",
       "    </tr>\n",
       "    <tr>\n",
       "      <th>1</th>\n",
       "      <td>10580_1610_C1_2</td>\n",
       "      <td>13 25 0 2 21</td>\n",
       "    </tr>\n",
       "    <tr>\n",
       "      <th>2</th>\n",
       "      <td>10580_1756_B1_1</td>\n",
       "      <td>13 25 0 2 21</td>\n",
       "    </tr>\n",
       "    <tr>\n",
       "      <th>3</th>\n",
       "      <td>10580_1756_B1_2</td>\n",
       "      <td>13 25 0 2 21</td>\n",
       "    </tr>\n",
       "    <tr>\n",
       "      <th>4</th>\n",
       "      <td>10580_1758_B1_1</td>\n",
       "      <td>13 25 0 2 21</td>\n",
       "    </tr>\n",
       "  </tbody>\n",
       "</table>\n",
       "</div>"
      ],
      "text/plain": [
       "                Id        Target\n",
       "0  10580_1610_C1_1  13 25 0 2 21\n",
       "1  10580_1610_C1_2  13 25 0 2 21\n",
       "2  10580_1756_B1_1  13 25 0 2 21\n",
       "3  10580_1756_B1_2  13 25 0 2 21\n",
       "4  10580_1758_B1_1  13 25 0 2 21"
      ]
     },
     "execution_count": 72,
     "metadata": {},
     "output_type": "execute_result"
    }
   ],
   "source": [
    "df = pd.read_csv(STAGE_ONE_DATA/EXTRA_HPA_DATA_WITHOUT_BROKEN_AND_MISSING_CSV);df.head()"
   ]
  },
  {
   "cell_type": "code",
   "execution_count": 24,
   "metadata": {},
   "outputs": [],
   "source": [
    "ids_list = get_rare_cls_id_list(rare_cls=cls, df=df)"
   ]
  },
  {
   "cell_type": "code",
   "execution_count": 32,
   "metadata": {
    "scrolled": true
   },
   "outputs": [
    {
     "name": "stdout",
     "output_type": "stream",
     "text": [
      "42\n",
      "116\n",
      "376\n",
      "236\n",
      "266\n",
      "105\n",
      "164\n",
      "152\n",
      "154\n"
     ]
    }
   ],
   "source": [
    "for c in cls:\n",
    "    print(len(get_rare_cls_id_list(rare_cls=[c], df=df)))"
   ]
  },
  {
   "cell_type": "code",
   "execution_count": 75,
   "metadata": {},
   "outputs": [],
   "source": [
    "import shutil\n",
    "\n",
    "for n, id_ in enumerate(ids_list):\n",
    "    try:\n",
    "        colors = ['red','green','blue','yellow']\n",
    "        for c in colors:\n",
    "            shutil.copyfile(EXTRA_DATA_PNGS/f'{id_}_{c}.png', newFolder/f'{id_}_{c}.png')\n",
    "            \n",
    "        target = df.loc[df.Id == id_].Target.item()\n",
    "        newDf = newDf.append({'Id':id_, 'Target':target}, ignore_index=True)\n",
    "    except:\n",
    "        print(id_)\n",
    "        \n",
    "newDf.to_csv(STAGE_ONE_DATA/newDfName, index=False)"
   ]
  },
  {
   "cell_type": "code",
   "execution_count": 79,
   "metadata": {},
   "outputs": [
    {
     "data": {
      "text/plain": [
       "5948"
      ]
     },
     "execution_count": 79,
     "metadata": {},
     "output_type": "execute_result"
    }
   ],
   "source": [
    "len(ids_list)*4"
   ]
  },
  {
   "cell_type": "code",
   "execution_count": 80,
   "metadata": {},
   "outputs": [
    {
     "data": {
      "text/plain": [
       "5948"
      ]
     },
     "execution_count": 80,
     "metadata": {},
     "output_type": "execute_result"
    }
   ],
   "source": [
    "len(list(newFolder.iterdir()))"
   ]
  },
  {
   "cell_type": "code",
   "execution_count": null,
   "metadata": {},
   "outputs": [],
   "source": []
  },
  {
   "cell_type": "markdown",
   "metadata": {},
   "source": [
    "# Split train into train and val for each class"
   ]
  },
  {
   "cell_type": "code",
   "execution_count": 60,
   "metadata": {},
   "outputs": [],
   "source": [
    "#with open(os.path.join(STAGE_ONE_DATA,'tr_names.txt'), 'r') as text_file:\n",
    "#    tr_n = text_file.read().split(',')\n",
    "#with open(os.path.join(STAGE_ONE_DATA,'val_names.txt'), 'r') as text_file:\n",
    "#    val_n = text_file.read().split(',')\n",
    "#\n",
    "#pd.DataFrame(tr_n, columns=['Id']).to_csv(STAGE_ONE_DATA/'tr_names.csv', index=False)\n",
    "#pd.DataFrame(val_n, columns=['Id']).to_csv(STAGE_ONE_DATA/'val_names.csv', index=False)"
   ]
  },
  {
   "cell_type": "code",
   "execution_count": 61,
   "metadata": {},
   "outputs": [],
   "source": [
    "from sklearn.model_selection import train_test_split\n",
    "#tr_n, val_n = train_test_split(train_names, test_size=0.2, random_state=42) #split train set into train and val set"
   ]
  },
  {
   "cell_type": "code",
   "execution_count": 104,
   "metadata": {
    "scrolled": true
   },
   "outputs": [
    {
     "name": "stdout",
     "output_type": "stream",
     "text": [
      "Nucleoplasm\n",
      "312\n",
      "312\n",
      "Nuclear membrane\n",
      "0\n",
      "0\n",
      "Nucleoli\n",
      "34\n",
      "34\n",
      "Nucleoli fibrillar center\n",
      "30\n",
      "30\n",
      "Nuclear speckles\n",
      "83\n",
      "80\n",
      "Nuclear bodies\n",
      "32\n",
      "23\n",
      "Endoplasmic reticulum\n",
      "52\n",
      "52\n",
      "Golgi apparatus\n",
      "52\n",
      "52\n",
      "Peroxisomes\n",
      "164\n",
      "149\n",
      "Endosomes\n",
      "152\n",
      "144\n",
      "Lysosomes\n",
      "154\n",
      "87\n",
      "Intermediate filaments\n",
      "9\n",
      "9\n",
      "Actin filaments\n",
      "12\n",
      "9\n",
      "Focal adhesion sites\n",
      "0\n",
      "0\n",
      "Microtubules\n",
      "62\n",
      "57\n",
      "Microtubule ends\n",
      "42\n",
      "36\n",
      "Cytokinetic bridge\n",
      "74\n",
      "40\n",
      "Mitotic spindle\n",
      "236\n",
      "159\n",
      "Microtubule organizing center\n",
      "58\n",
      "37\n",
      "Centrosome\n",
      "46\n",
      "23\n",
      "Lipid droplets\n",
      "266\n",
      "215\n",
      "Plasma membrane\n",
      "114\n",
      "76\n",
      "Cell junctions\n",
      "44\n",
      "27\n",
      "Mitochondria\n",
      "28\n",
      "20\n",
      "Aggresome\n",
      "105\n",
      "73\n",
      "Cytosol\n",
      "404\n"
     ]
    },
    {
     "ename": "ValueError",
     "evalue": "list.remove(x): x not in list",
     "output_type": "error",
     "traceback": [
      "\u001b[0;31m---------------------------------------------------------------------------\u001b[0m",
      "\u001b[0;31mValueError\u001b[0m                                Traceback (most recent call last)",
      "\u001b[0;32m<ipython-input-104-091166c8d4c0>\u001b[0m in \u001b[0;36m<module>\u001b[0;34m\u001b[0m\n\u001b[1;32m     11\u001b[0m             \u001b[0ml\u001b[0m\u001b[0;34m.\u001b[0m\u001b[0mremove\u001b[0m\u001b[0;34m(\u001b[0m\u001b[0mi\u001b[0m\u001b[0;34m)\u001b[0m\u001b[0;34m\u001b[0m\u001b[0;34m\u001b[0m\u001b[0m\n\u001b[1;32m     12\u001b[0m         \u001b[0;32mif\u001b[0m \u001b[0mi\u001b[0m \u001b[0;32min\u001b[0m \u001b[0mval_n\u001b[0m\u001b[0;34m:\u001b[0m\u001b[0;34m\u001b[0m\u001b[0;34m\u001b[0m\u001b[0m\n\u001b[0;32m---> 13\u001b[0;31m             \u001b[0ml\u001b[0m\u001b[0;34m.\u001b[0m\u001b[0mremove\u001b[0m\u001b[0;34m(\u001b[0m\u001b[0mi\u001b[0m\u001b[0;34m)\u001b[0m\u001b[0;34m\u001b[0m\u001b[0;34m\u001b[0m\u001b[0m\n\u001b[0m\u001b[1;32m     14\u001b[0m     \u001b[0mprint\u001b[0m\u001b[0;34m(\u001b[0m\u001b[0mlen\u001b[0m\u001b[0;34m(\u001b[0m\u001b[0ml\u001b[0m\u001b[0;34m)\u001b[0m\u001b[0;34m)\u001b[0m\u001b[0;34m\u001b[0m\u001b[0;34m\u001b[0m\u001b[0m\n\u001b[1;32m     15\u001b[0m \u001b[0;34m\u001b[0m\u001b[0m\n",
      "\u001b[0;31mValueError\u001b[0m: list.remove(x): x not in list"
     ]
    }
   ],
   "source": [
    "tr_n = [] \n",
    "val_n = []\n",
    "df_extra = pd.read_csv(STAGE_ONE_DATA/newDfName)\n",
    "for c in reverse_label_names:\n",
    "    print(c)\n",
    "    l = get_rare_cls_id_list([c], df=df_extra)\n",
    "    \n",
    "    print(len(l))\n",
    "    for i in l:\n",
    "        if i in tr_n:\n",
    "            l.remove(i)\n",
    "        if i in val_n:\n",
    "            l.remove(i)\n",
    "    print(len(l))\n",
    "    \n",
    "    t, v = train_test_split(l, test_size=0.2, random_state=42)    \n",
    "    for item in t:\n",
    "        tr_n.append(item)\n",
    "    for item in v:\n",
    "        val_n.append(item)\n",
    "        \n",
    "#tr_n = list(set(tr_n))\n",
    "#val_n = list(set(val_n))"
   ]
  },
  {
   "cell_type": "code",
   "execution_count": 105,
   "metadata": {},
   "outputs": [
    {
     "data": {
      "text/plain": [
       "1487"
      ]
     },
     "execution_count": 105,
     "metadata": {},
     "output_type": "execute_result"
    }
   ],
   "source": [
    "len(df_extra)"
   ]
  },
  {
   "cell_type": "code",
   "execution_count": 106,
   "metadata": {},
   "outputs": [
    {
     "data": {
      "text/plain": [
       "1744"
      ]
     },
     "execution_count": 106,
     "metadata": {},
     "output_type": "execute_result"
    }
   ],
   "source": [
    "len(tr_n) + len(val_n)"
   ]
  },
  {
   "cell_type": "code",
   "execution_count": 107,
   "metadata": {},
   "outputs": [
    {
     "data": {
      "text/plain": [
       "1464"
      ]
     },
     "execution_count": 107,
     "metadata": {},
     "output_type": "execute_result"
    }
   ],
   "source": [
    "len(set(tr_n)) + len(set(val_n))"
   ]
  },
  {
   "cell_type": "markdown",
   "metadata": {
    "heading_collapsed": true
   },
   "source": [
    "# multiply rare classes in df (obsolete)"
   ]
  },
  {
   "cell_type": "code",
   "execution_count": 147,
   "metadata": {
    "hidden": true
   },
   "outputs": [],
   "source": [
    "lbs_balanced = pd.read_csv(STAGE_ONE_DATA/LBS_BALANCED)"
   ]
  },
  {
   "cell_type": "code",
   "execution_count": 148,
   "metadata": {
    "hidden": true,
    "scrolled": false
   },
   "outputs": [
    {
     "data": {
      "text/html": [
       "<div>\n",
       "<style scoped>\n",
       "    .dataframe tbody tr th:only-of-type {\n",
       "        vertical-align: middle;\n",
       "    }\n",
       "\n",
       "    .dataframe tbody tr th {\n",
       "        vertical-align: top;\n",
       "    }\n",
       "\n",
       "    .dataframe thead th {\n",
       "        text-align: right;\n",
       "    }\n",
       "</style>\n",
       "<table border=\"1\" class=\"dataframe\">\n",
       "  <thead>\n",
       "    <tr style=\"text-align: right;\">\n",
       "      <th></th>\n",
       "      <th>Id</th>\n",
       "      <th>Target</th>\n",
       "      <th>Nucleoplasm</th>\n",
       "      <th>Nuclear membrane</th>\n",
       "      <th>Nucleoli</th>\n",
       "      <th>Nucleoli fibrillar center</th>\n",
       "      <th>Nuclear speckles</th>\n",
       "      <th>Nuclear bodies</th>\n",
       "      <th>Endoplasmic reticulum</th>\n",
       "      <th>Golgi apparatus</th>\n",
       "      <th>...</th>\n",
       "      <th>Microtubule organizing center</th>\n",
       "      <th>Centrosome</th>\n",
       "      <th>Lipid droplets</th>\n",
       "      <th>Plasma membrane</th>\n",
       "      <th>Cell junctions</th>\n",
       "      <th>Mitochondria</th>\n",
       "      <th>Aggresome</th>\n",
       "      <th>Cytosol</th>\n",
       "      <th>Cytoplasmic bodies</th>\n",
       "      <th>Rods &amp; rings</th>\n",
       "    </tr>\n",
       "  </thead>\n",
       "  <tbody>\n",
       "    <tr>\n",
       "      <th>0</th>\n",
       "      <td>00070df0-bbc3-11e8-b2bc-ac1f6b6435d0</td>\n",
       "      <td>16 0</td>\n",
       "      <td>0</td>\n",
       "      <td>0</td>\n",
       "      <td>0</td>\n",
       "      <td>0</td>\n",
       "      <td>0</td>\n",
       "      <td>0</td>\n",
       "      <td>0</td>\n",
       "      <td>0</td>\n",
       "      <td>...</td>\n",
       "      <td>0</td>\n",
       "      <td>0</td>\n",
       "      <td>0</td>\n",
       "      <td>0</td>\n",
       "      <td>0</td>\n",
       "      <td>0</td>\n",
       "      <td>0</td>\n",
       "      <td>0</td>\n",
       "      <td>0</td>\n",
       "      <td>0</td>\n",
       "    </tr>\n",
       "    <tr>\n",
       "      <th>1</th>\n",
       "      <td>000a6c98-bb9b-11e8-b2b9-ac1f6b6435d0</td>\n",
       "      <td>7 1 2 0</td>\n",
       "      <td>0</td>\n",
       "      <td>0</td>\n",
       "      <td>0</td>\n",
       "      <td>0</td>\n",
       "      <td>0</td>\n",
       "      <td>0</td>\n",
       "      <td>0</td>\n",
       "      <td>0</td>\n",
       "      <td>...</td>\n",
       "      <td>0</td>\n",
       "      <td>0</td>\n",
       "      <td>0</td>\n",
       "      <td>0</td>\n",
       "      <td>0</td>\n",
       "      <td>0</td>\n",
       "      <td>0</td>\n",
       "      <td>0</td>\n",
       "      <td>0</td>\n",
       "      <td>0</td>\n",
       "    </tr>\n",
       "    <tr>\n",
       "      <th>2</th>\n",
       "      <td>000a9596-bbc4-11e8-b2bc-ac1f6b6435d0</td>\n",
       "      <td>5</td>\n",
       "      <td>0</td>\n",
       "      <td>0</td>\n",
       "      <td>0</td>\n",
       "      <td>0</td>\n",
       "      <td>0</td>\n",
       "      <td>0</td>\n",
       "      <td>0</td>\n",
       "      <td>0</td>\n",
       "      <td>...</td>\n",
       "      <td>0</td>\n",
       "      <td>0</td>\n",
       "      <td>0</td>\n",
       "      <td>0</td>\n",
       "      <td>0</td>\n",
       "      <td>0</td>\n",
       "      <td>0</td>\n",
       "      <td>0</td>\n",
       "      <td>0</td>\n",
       "      <td>0</td>\n",
       "    </tr>\n",
       "    <tr>\n",
       "      <th>3</th>\n",
       "      <td>000c99ba-bba4-11e8-b2b9-ac1f6b6435d0</td>\n",
       "      <td>1</td>\n",
       "      <td>0</td>\n",
       "      <td>0</td>\n",
       "      <td>0</td>\n",
       "      <td>0</td>\n",
       "      <td>0</td>\n",
       "      <td>0</td>\n",
       "      <td>0</td>\n",
       "      <td>0</td>\n",
       "      <td>...</td>\n",
       "      <td>0</td>\n",
       "      <td>0</td>\n",
       "      <td>0</td>\n",
       "      <td>0</td>\n",
       "      <td>0</td>\n",
       "      <td>0</td>\n",
       "      <td>0</td>\n",
       "      <td>0</td>\n",
       "      <td>0</td>\n",
       "      <td>0</td>\n",
       "    </tr>\n",
       "    <tr>\n",
       "      <th>4</th>\n",
       "      <td>001838f8-bbca-11e8-b2bc-ac1f6b6435d0</td>\n",
       "      <td>18</td>\n",
       "      <td>0</td>\n",
       "      <td>0</td>\n",
       "      <td>0</td>\n",
       "      <td>0</td>\n",
       "      <td>0</td>\n",
       "      <td>0</td>\n",
       "      <td>0</td>\n",
       "      <td>0</td>\n",
       "      <td>...</td>\n",
       "      <td>0</td>\n",
       "      <td>0</td>\n",
       "      <td>0</td>\n",
       "      <td>0</td>\n",
       "      <td>0</td>\n",
       "      <td>0</td>\n",
       "      <td>0</td>\n",
       "      <td>0</td>\n",
       "      <td>0</td>\n",
       "      <td>0</td>\n",
       "    </tr>\n",
       "  </tbody>\n",
       "</table>\n",
       "<p>5 rows × 30 columns</p>\n",
       "</div>"
      ],
      "text/plain": [
       "                                     Id   Target  Nucleoplasm  \\\n",
       "0  00070df0-bbc3-11e8-b2bc-ac1f6b6435d0     16 0            0   \n",
       "1  000a6c98-bb9b-11e8-b2b9-ac1f6b6435d0  7 1 2 0            0   \n",
       "2  000a9596-bbc4-11e8-b2bc-ac1f6b6435d0        5            0   \n",
       "3  000c99ba-bba4-11e8-b2b9-ac1f6b6435d0        1            0   \n",
       "4  001838f8-bbca-11e8-b2bc-ac1f6b6435d0       18            0   \n",
       "\n",
       "   Nuclear membrane  Nucleoli  Nucleoli fibrillar center  Nuclear speckles  \\\n",
       "0                 0         0                          0                 0   \n",
       "1                 0         0                          0                 0   \n",
       "2                 0         0                          0                 0   \n",
       "3                 0         0                          0                 0   \n",
       "4                 0         0                          0                 0   \n",
       "\n",
       "   Nuclear bodies  Endoplasmic reticulum  Golgi apparatus      ...       \\\n",
       "0               0                      0                0      ...        \n",
       "1               0                      0                0      ...        \n",
       "2               0                      0                0      ...        \n",
       "3               0                      0                0      ...        \n",
       "4               0                      0                0      ...        \n",
       "\n",
       "   Microtubule organizing center  Centrosome  Lipid droplets  Plasma membrane  \\\n",
       "0                              0           0               0                0   \n",
       "1                              0           0               0                0   \n",
       "2                              0           0               0                0   \n",
       "3                              0           0               0                0   \n",
       "4                              0           0               0                0   \n",
       "\n",
       "   Cell junctions  Mitochondria  Aggresome  Cytosol  Cytoplasmic bodies  \\\n",
       "0               0             0          0        0                   0   \n",
       "1               0             0          0        0                   0   \n",
       "2               0             0          0        0                   0   \n",
       "3               0             0          0        0                   0   \n",
       "4               0             0          0        0                   0   \n",
       "\n",
       "   Rods & rings  \n",
       "0             0  \n",
       "1             0  \n",
       "2             0  \n",
       "3             0  \n",
       "4             0  \n",
       "\n",
       "[5 rows x 30 columns]"
      ]
     },
     "execution_count": 148,
     "metadata": {},
     "output_type": "execute_result"
    }
   ],
   "source": [
    "lbs_balanced.head()"
   ]
  },
  {
   "cell_type": "code",
   "execution_count": 86,
   "metadata": {
    "hidden": true,
    "scrolled": true
   },
   "outputs": [],
   "source": [
    "def multiply_rare_classes(rare_cls:list, multi_fac:int, df:pd.DataFrame):\n",
    "    for index, row in df.iterrows():\n",
    "        s = str(row['Target'])\n",
    "        sl = s.split(sep=' ')\n",
    "        il = [int(st) for st in sl]\n",
    "        ls = [label_names[l] for l in il]\n",
    "        if bool(set(ls) & set(rare_cls)):\n",
    "            #print('true')\n",
    "            for i in range(multi_fac):\n",
    "                df = df.append(row)\n",
    "    return df"
   ]
  },
  {
   "cell_type": "code",
   "execution_count": 162,
   "metadata": {
    "hidden": true
   },
   "outputs": [],
   "source": [
    "rare_classes = ['Rods & rings']\n",
    "#rare_classes = ['Microtubule ends', 'Nucleoli fibrillar center', 'Centrosome', 'Rods & rings']"
   ]
  },
  {
   "cell_type": "code",
   "execution_count": 157,
   "metadata": {
    "hidden": true
   },
   "outputs": [
    {
     "data": {
      "text/plain": [
       "['Microtubule organizing center', 'Microtubules']"
      ]
     },
     "execution_count": 157,
     "metadata": {},
     "output_type": "execute_result"
    }
   ],
   "source": [
    "rare_classes"
   ]
  },
  {
   "cell_type": "code",
   "execution_count": 158,
   "metadata": {
    "hidden": true
   },
   "outputs": [],
   "source": [
    "lbs_balanced = multiply_rare_classes(rare_cls=rare_classes, multi_fac=2, df = lbs_balanced)"
   ]
  },
  {
   "cell_type": "code",
   "execution_count": 159,
   "metadata": {
    "hidden": true
   },
   "outputs": [],
   "source": [
    "t = get_labels_distribution(lbs_balanced)"
   ]
  },
  {
   "cell_type": "code",
   "execution_count": 160,
   "metadata": {
    "hidden": true
   },
   "outputs": [
    {
     "data": {
      "text/plain": [
       "Nucleoplasm                      26321\n",
       "Cytosol                          14541\n",
       "Nucleoli                          7162\n",
       "Plasma membrane                   6788\n",
       "Mitotic spindle                   6060\n",
       "Nuclear membrane                  5612\n",
       "Microtubule organizing center     5448\n",
       "Microtubules                      5439\n",
       "Intermediate filaments            5292\n",
       "Nuclear bodies                    5112\n",
       "Cell junctions                    4635\n",
       "Cytokinetic bridge                4183\n",
       "Mitochondria                      4060\n",
       "Actin filaments                   3985\n",
       "Golgi apparatus                   3499\n",
       "Aggresome                         3352\n",
       "Focal adhesion sites              3170\n",
       "Cytoplasmic bodies                2880\n",
       "Endosomes                         2845\n",
       "Lysosomes                         2828\n",
       "Nuclear speckles                  2778\n",
       "Peroxisomes                       2703\n",
       "Lipid droplets                    2580\n",
       "Endoplasmic reticulum             2306\n",
       "Rods & rings                      2211\n",
       "Centrosome                        2144\n",
       "Nucleoli fibrillar center         2137\n",
       "Microtubule ends                  2121\n",
       "dtype: int64"
      ]
     },
     "execution_count": 160,
     "metadata": {},
     "output_type": "execute_result"
    }
   ],
   "source": [
    "t"
   ]
  },
  {
   "cell_type": "code",
   "execution_count": 161,
   "metadata": {
    "hidden": true
   },
   "outputs": [],
   "source": [
    "lbs_balanced.to_csv(STAGE_ONE_DATA/LBS_BALANCED, index=False)"
   ]
  },
  {
   "cell_type": "markdown",
   "metadata": {},
   "source": [
    "# Oversample rare classes"
   ]
  },
  {
   "cell_type": "code",
   "execution_count": 3,
   "metadata": {},
   "outputs": [],
   "source": [
    "def get_rare_cls_id_list(rare_cls:list, df:pd.DataFrame):\n",
    "    result = []\n",
    "    for index, row in df.iterrows():\n",
    "        s = str(row['Target'])\n",
    "        sl = s.split(sep=' ')\n",
    "        il = [int(st) for st in sl]\n",
    "        ls = [label_names[l] for l in il]\n",
    "        if bool(set(ls) & set(rare_cls)):\n",
    "            #print(row)\n",
    "            result.append(row['Id'])\n",
    "    return result\n",
    "\n",
    "def open_rgby(path,id):\n",
    "    \"\"\"\n",
    "    a function that reads RGBY image\n",
    "    \"\"\"\n",
    "    colors = ['red','green','blue','yellow']\n",
    "    flags = cv2.IMREAD_GRAYSCALE\n",
    "    img = [cv2.imread(os.path.join(path, id+'_'+color+'.png'), flags).astype(np.float32)/255\n",
    "           for color in colors]\n",
    "    return np.stack(img, axis=-1)\n",
    "    \n",
    "def open_four_channels_and_save_with_new_id(load_path, load_id, save_path):\n",
    "    \"\"\"\n",
    "    A function that reads the four images belonging to one id and saving them unchanged with a new id.\n",
    "    \n",
    "    #Arguments:\n",
    "        load_path: folder_path\n",
    "        load_id: id without the color suffix\n",
    "        save_path: folder_path\n",
    "    \n",
    "    #Returns:\n",
    "        new_id: The new new Id as a string.\n",
    "        imgs: list of the four grayscale, one channel images\n",
    "    \"\"\"\n",
    "    new_id = str(uuid.uuid4())\n",
    "    colors = ['red','green','blue','yellow']\n",
    "    flags = cv2.IMREAD_GRAYSCALE\n",
    "    imgs = [cv2.imread(os.path.join(load_path, load_id+'_'+color+'.png'), flags)\n",
    "           for color in colors]\n",
    "    for img, col in zip(imgs, colors):\n",
    "        cv2.imwrite(f'{save_path}/{new_id}_{col}.png', img)\n",
    "    return new_id, imgs\n",
    "\n",
    "def display_img_gray(img):\n",
    "    plt.axis('off')\n",
    "    plt.imshow(img, cmap='gray')\n",
    "    plt.show()\n",
    "    \n",
    "def display_img_col(img):\n",
    "    pass"
   ]
  },
  {
   "cell_type": "code",
   "execution_count": 6,
   "metadata": {},
   "outputs": [],
   "source": [
    "#new_id, imgs = open_four_channels_and_save_with_new_id(load_path=STAGE_ONE_DATA/TRAIN_PNGS, \n",
    "#                                               save_path=STAGE_ONE_DATA/TRAIN_PNGS_MULTI, \n",
    "#                                               load_id='05d32f36-bba3-11e8-b2b9-ac1f6b6435d0')\n",
    "#new_id, imgs = open_four_channels_and_save_with_new_id(load_path=DP_FULL/TRAIN_PNGS_FULL, \n",
    "#                                               save_path=STAGE_ONE_DATA/TRAIN_PNGS_MULTI, \n",
    "#                                               load_id='05d32f36-bba3-11e8-b2b9-ac1f6b6435d0')\n",
    "#for img in imgs:\n",
    "#    print(img.shape)\n",
    "#    display_img_gray(img)\n",
    "#\n",
    "#    \n",
    "#img1 = open_rgby(path=STAGE_ONE_DATA/TRAIN_PNGS, \n",
    "#                 id='05d32f36-bba3-11e8-b2b9-ac1f6b6435d0')\n",
    "#img2 = open_rgby(path=STAGE_ONE_DATA/TRAIN_PNGS_MULTI,\n",
    "#                 id=new_id)\n",
    "#\n",
    "#plt.imshow(img1)\n",
    "#plt.show()\n",
    "#plt.imshow(img2)\n",
    "#plt.show()"
   ]
  },
  {
   "cell_type": "code",
   "execution_count": 7,
   "metadata": {},
   "outputs": [],
   "source": [
    "#rare_classes = ['Rods & rings', 'Microtubule ends', 'Lysosomes']\n",
    "rare_classes = []\n",
    "result = get_rare_cls_id_list(rare_cls=rare_classes, df=train_labels)"
   ]
  },
  {
   "cell_type": "code",
   "execution_count": 8,
   "metadata": {},
   "outputs": [
    {
     "data": {
      "text/plain": [
       "[]"
      ]
     },
     "execution_count": 8,
     "metadata": {},
     "output_type": "execute_result"
    }
   ],
   "source": [
    "result"
   ]
  },
  {
   "cell_type": "code",
   "execution_count": 9,
   "metadata": {},
   "outputs": [],
   "source": [
    "train_labels = pd.read_csv(STAGE_ONE_DATA/TRAIN_CSV)\n",
    "#train_multi_df = pd.DataFrame(columns=['Id', 'Target'])\n",
    "train_multi_df = pd.read_csv(STAGE_ONE_DATA/TRAIN_CSV_MULTI)"
   ]
  },
  {
   "cell_type": "code",
   "execution_count": 67,
   "metadata": {},
   "outputs": [
    {
     "data": {
      "text/plain": [
       "Nucleoplasm                      17678\n",
       "Cytosol                          10142\n",
       "Nucleoli                          4884\n",
       "Plasma membrane                   4857\n",
       "Nuclear bodies                    3575\n",
       "Mitochondria                      3445\n",
       "Golgi apparatus                   3039\n",
       "Cell junctions                    2464\n",
       "Cytoplasmic bodies                2310\n",
       "Nuclear speckles                  2220\n",
       "Actin filaments                   2152\n",
       "Lipid droplets                    1892\n",
       "Nucleoli fibrillar center         1801\n",
       "Centrosome                        1716\n",
       "Focal adhesion sites              1669\n",
       "Endoplasmic reticulum             1630\n",
       "Aggresome                         1620\n",
       "Cytokinetic bridge                1510\n",
       "Mitotic spindle                   1472\n",
       "Endosomes                         1445\n",
       "Lysosomes                         1428\n",
       "Peroxisomes                       1378\n",
       "Microtubules                      1374\n",
       "Nuclear membrane                  1314\n",
       "Microtubule organizing center     1302\n",
       "Intermediate filaments            1207\n",
       "Microtubule ends                  1071\n",
       "Rods & rings                      1001\n",
       "dtype: int64"
      ]
     },
     "execution_count": 67,
     "metadata": {},
     "output_type": "execute_result"
    },
    {
     "data": {
      "image/png": "[encoded data removed]",
      "text/plain": [
       "<Figure size 1080x1080 with 1 Axes>"
      ]
     },
     "metadata": {},
     "output_type": "display_data"
    }
   ],
   "source": [
    "for n in range(2):\n",
    "    for i in result:\n",
    "        target = train_labels.loc[train_labels.Id == i].Target.item()\n",
    "        new_id, _ = open_four_channels_and_save_with_new_id(load_path=STAGE_ONE_DATA/TRAIN_PNGS, \n",
    "                                                   save_path=STAGE_ONE_DATA/TRAIN_PNGS_MULTI, \n",
    "                                                   load_id=i)\n",
    "        train_multi_df = train_multi_df.append({'Id':new_id, 'Target':target}, ignore_index=True)\n",
    "        \n",
    "train_multi_df.to_csv(path_or_buf=STAGE_ONE_DATA/TRAIN_CSV_MULTI, index=False)\n",
    "train_multi_and_original_df = train_labels.append(train_multi_df, ignore_index=True, sort=False)\n",
    "train_multi_and_original_df.shape[0]-train_multi_df.shape[0] == train_labels.shape[0]\n",
    "get_labels_distribution(train_multi_and_original_df)"
   ]
  },
  {
   "cell_type": "code",
   "execution_count": 69,
   "metadata": {},
   "outputs": [],
   "source": [
    "train_multi_and_original_df.to_csv(STAGE_ONE_DATA/ TRAIN_CSV_MULTI_AND_ORIG, index=False)"
   ]
  },
  {
   "cell_type": "code",
   "execution_count": 13,
   "metadata": {},
   "outputs": [
    {
     "data": {
      "text/plain": [
       "46127"
      ]
     },
     "execution_count": 13,
     "metadata": {},
     "output_type": "execute_result"
    }
   ],
   "source": [
    "#train_multi_and_original_df = pd.read_csv(STAGE_ONE_DATA/ TRAIN_CSV_MULTI_AND_ORIG)\n",
    "train_multi_and_original_df.shape[0]"
   ]
  },
  {
   "cell_type": "code",
   "execution_count": 14,
   "metadata": {},
   "outputs": [
    {
     "data": {
      "text/plain": [
       "46127.0"
      ]
     },
     "execution_count": 14,
     "metadata": {},
     "output_type": "execute_result"
    }
   ],
   "source": [
    "len(list((STAGE_ONE_DATA/TRAIN_PNGS_MULTI).iterdir()))/4"
   ]
  },
  {
   "cell_type": "code",
   "execution_count": 12,
   "metadata": {},
   "outputs": [
    {
     "data": {
      "text/plain": [
       "31072.0"
      ]
     },
     "execution_count": 12,
     "metadata": {},
     "output_type": "execute_result"
    }
   ],
   "source": [
    "len(list((STAGE_ONE_DATA/TRAIN_PNGS).iterdir()))/4"
   ]
  },
  {
   "cell_type": "code",
   "execution_count": 99,
   "metadata": {},
   "outputs": [
    {
     "data": {
      "text/plain": [
       "True"
      ]
     },
     "execution_count": 99,
     "metadata": {},
     "output_type": "execute_result"
    }
   ],
   "source": [
    "train_multi_and_original_df.shape[0] - train_multi_df.shape[0] == train_labels.shape[0]"
   ]
  },
  {
   "cell_type": "code",
   "execution_count": null,
   "metadata": {},
   "outputs": [],
   "source": []
  }
 ],
 "metadata": {
  "kernelspec": {
   "display_name": "Python 3",
   "language": "python",
   "name": "python3"
  },
  "language_info": {
   "codemirror_mode": {
    "name": "ipython",
    "version": 3
   },
   "file_extension": ".py",
   "mimetype": "text/x-python",
   "name": "python",
   "nbconvert_exporter": "python",
   "pygments_lexer": "ipython3",
   "version": "3.6.7"
  },
  "toc": {
   "base_numbering": 1,
   "nav_menu": {},
   "number_sections": true,
   "sideBar": true,
   "skip_h1_title": false,
   "title_cell": "Table of Contents",
   "title_sidebar": "Contents",
   "toc_cell": false,
   "toc_position": {
    "height": "calc(100% - 180px)",
    "left": "10px",
    "top": "150px",
    "width": "342px"
   },
   "toc_section_display": true,
   "toc_window_display": true
  }
 },
 "nbformat": 4,
 "nbformat_minor": 2
}
