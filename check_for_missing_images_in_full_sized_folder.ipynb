{
 "cells": [
  {
   "cell_type": "code",
   "execution_count": null,
   "metadata": {
    "scrolled": true
   },
   "outputs": [],
   "source": [
    "import sys\n",
    "sys.path.append('../fastai/old/') #fastai version 0.7\n",
    "\n",
    "from fastai.conv_learner import *\n",
    "from fastai.dataset import *\n",
    "\n",
    "import pandas as pd\n",
    "import numpy as np\n",
    "import os\n",
    "from sklearn.model_selection import train_test_split\n",
    "from sklearn.metrics import f1_score\n",
    "import scipy.optimize as opt\n",
    "from pathlib import Path\n",
    "\n",
    "p = Path('/home/Deep_Learner/shared/Datasets/human-protein-atlas-image-classification/')\n",
    "train = 'train_pngs_full_size'\n",
    "test = 'test_pngs_full_size'\n",
    "TRAIN_CSV = Path('/home/Deep_Learner/work/datasets/human-protein-atlas-image-classification/stage1_data/train.csv')"
   ]
  },
  {
   "cell_type": "code",
   "execution_count": 10,
   "metadata": {},
   "outputs": [
    {
     "data": {
      "text/plain": [
       "['00070df0-bbc3-11e8-b2bc-ac1f6b6435d0_blue.png',\n",
       " '00070df0-bbc3-11e8-b2bc-ac1f6b6435d0_green.png',\n",
       " '00070df0-bbc3-11e8-b2bc-ac1f6b6435d0_red.png',\n",
       " '00070df0-bbc3-11e8-b2bc-ac1f6b6435d0_yellow.png',\n",
       " '000a6c98-bb9b-11e8-b2b9-ac1f6b6435d0_blue.png',\n",
       " '000a6c98-bb9b-11e8-b2b9-ac1f6b6435d0_green.png',\n",
       " '000a6c98-bb9b-11e8-b2b9-ac1f6b6435d0_red.png',\n",
       " '000a6c98-bb9b-11e8-b2b9-ac1f6b6435d0_yellow.png']"
      ]
     },
     "execution_count": 10,
     "metadata": {},
     "output_type": "execute_result"
    }
   ],
   "source": [
    "fns_are = sorted([os.path.basename(fn) for fn in list((p/train).iterdir())])\n",
    "fns_are[:8]"
   ]
  },
  {
   "cell_type": "code",
   "execution_count": 11,
   "metadata": {},
   "outputs": [
    {
     "data": {
      "text/plain": [
       "124288"
      ]
     },
     "execution_count": 11,
     "metadata": {},
     "output_type": "execute_result"
    }
   ],
   "source": [
    "len(fns_are)"
   ]
  },
  {
   "cell_type": "code",
   "execution_count": 12,
   "metadata": {},
   "outputs": [
    {
     "data": {
      "text/plain": [
       "['00070df0-bbc3-11e8-b2bc-ac1f6b6435d0_red.png',\n",
       " '00070df0-bbc3-11e8-b2bc-ac1f6b6435d0_green.png',\n",
       " '00070df0-bbc3-11e8-b2bc-ac1f6b6435d0_blue.png',\n",
       " '00070df0-bbc3-11e8-b2bc-ac1f6b6435d0_yellow.png',\n",
       " '000a6c98-bb9b-11e8-b2b9-ac1f6b6435d0_red.png',\n",
       " '000a6c98-bb9b-11e8-b2b9-ac1f6b6435d0_green.png',\n",
       " '000a6c98-bb9b-11e8-b2b9-ac1f6b6435d0_blue.png',\n",
       " '000a6c98-bb9b-11e8-b2b9-ac1f6b6435d0_yellow.png']"
      ]
     },
     "execution_count": 12,
     "metadata": {},
     "output_type": "execute_result"
    }
   ],
   "source": [
    "df = pd.read_csv(TRAIN_CSV)\n",
    "fns_should = []\n",
    "colors = ['red','green','blue','yellow']\n",
    "for id in df.Id:\n",
    "    for c in colors:\n",
    "        fns_should.append(f'{id}_{c}.png')\n",
    "\n",
    "fns_should[:8]"
   ]
  },
  {
   "cell_type": "code",
   "execution_count": 13,
   "metadata": {},
   "outputs": [
    {
     "data": {
      "text/plain": [
       "124288"
      ]
     },
     "execution_count": 13,
     "metadata": {},
     "output_type": "execute_result"
    }
   ],
   "source": [
    "len(fns_should)"
   ]
  },
  {
   "cell_type": "code",
   "execution_count": 6,
   "metadata": {},
   "outputs": [
    {
     "name": "stdout",
     "output_type": "stream",
     "text": [
      "a2fc9414-bbc6-11e8-b2bc-ac1f6b6435d0_red.png\n",
      "a2fc9414-bbc6-11e8-b2bc-ac1f6b6435d0_green.png\n",
      "a2fc9414-bbc6-11e8-b2bc-ac1f6b6435d0_blue.png\n",
      "a2fc9414-bbc6-11e8-b2bc-ac1f6b6435d0_yellow.png\n"
     ]
    }
   ],
   "source": [
    "for fn in fns_should:\n",
    "    if fn not in fns_are:\n",
    "        print(fn)"
   ]
  },
  {
   "cell_type": "code",
   "execution_count": null,
   "metadata": {},
   "outputs": [],
   "source": [
    "'a2fc9414-bbc6-11e8-b2bc-ac1f6b6435d0'"
   ]
  },
  {
   "cell_type": "code",
   "execution_count": 7,
   "metadata": {},
   "outputs": [
    {
     "data": {
      "text/html": [
       "<div>\n",
       "<style scoped>\n",
       "    .dataframe tbody tr th:only-of-type {\n",
       "        vertical-align: middle;\n",
       "    }\n",
       "\n",
       "    .dataframe tbody tr th {\n",
       "        vertical-align: top;\n",
       "    }\n",
       "\n",
       "    .dataframe thead th {\n",
       "        text-align: right;\n",
       "    }\n",
       "</style>\n",
       "<table border=\"1\" class=\"dataframe\">\n",
       "  <thead>\n",
       "    <tr style=\"text-align: right;\">\n",
       "      <th></th>\n",
       "      <th>Id</th>\n",
       "      <th>Target</th>\n",
       "    </tr>\n",
       "  </thead>\n",
       "  <tbody>\n",
       "    <tr>\n",
       "      <th>19726</th>\n",
       "      <td>a2fc9414-bbc6-11e8-b2bc-ac1f6b6435d0</td>\n",
       "      <td>5 0</td>\n",
       "    </tr>\n",
       "  </tbody>\n",
       "</table>\n",
       "</div>"
      ],
      "text/plain": [
       "                                         Id Target\n",
       "19726  a2fc9414-bbc6-11e8-b2bc-ac1f6b6435d0    5 0"
      ]
     },
     "execution_count": 7,
     "metadata": {},
     "output_type": "execute_result"
    }
   ],
   "source": [
    "df.loc[df.Id == 'a2fc9414-bbc6-11e8-b2bc-ac1f6b6435d0']"
   ]
  },
  {
   "cell_type": "code",
   "execution_count": 8,
   "metadata": {},
   "outputs": [],
   "source": [
    "!cp /home/Deep_Learner/work/datasets/human-protein-atlas-image-classification/stage1_data/train_pngs_512/a2fc9414-bbc6-11e8-b2bc-ac1f6b6435d0_red.png /home/Deep_Learner/shared/Human_Protein_Atlas/train_rgby/\n",
    "!cp /home/Deep_Learner/work/datasets/human-protein-atlas-image-classification/stage1_data/train_pngs_512/a2fc9414-bbc6-11e8-b2bc-ac1f6b6435d0_green.png /home/Deep_Learner/shared/Human_Protein_Atlas/train_rgby/\n",
    "!cp /home/Deep_Learner/work/datasets/human-protein-atlas-image-classification/stage1_data/train_pngs_512/a2fc9414-bbc6-11e8-b2bc-ac1f6b6435d0_blue.png /home/Deep_Learner/shared/Human_Protein_Atlas/train_rgby/\n",
    "!cp /home/Deep_Learner/work/datasets/human-protein-atlas-image-classification/stage1_data/train_pngs_512/a2fc9414-bbc6-11e8-b2bc-ac1f6b6435d0_yellow.png /home/Deep_Learner/shared/Human_Protein_Atlas/train_rgby/"
   ]
  },
  {
   "cell_type": "code",
   "execution_count": null,
   "metadata": {},
   "outputs": [],
   "source": []
  },
  {
   "cell_type": "code",
   "execution_count": null,
   "metadata": {},
   "outputs": [],
   "source": []
  }
 ],
 "metadata": {
  "kernelspec": {
   "display_name": "Python 3",
   "language": "python",
   "name": "python3"
  },
  "language_info": {
   "codemirror_mode": {
    "name": "ipython",
    "version": 3
   },
   "file_extension": ".py",
   "mimetype": "text/x-python",
   "name": "python",
   "nbconvert_exporter": "python",
   "pygments_lexer": "ipython3",
   "version": "3.6.7"
  },
  "toc": {
   "base_numbering": 1,
   "nav_menu": {},
   "number_sections": true,
   "sideBar": true,
   "skip_h1_title": false,
   "title_cell": "Table of Contents",
   "title_sidebar": "Contents",
   "toc_cell": false,
   "toc_position": {},
   "toc_section_display": true,
   "toc_window_display": false
  }
 },
 "nbformat": 4,
 "nbformat_minor": 2
}
