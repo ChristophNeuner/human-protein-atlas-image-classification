{
 "cells": [
  {
   "cell_type": "markdown",
   "metadata": {},
   "source": [
    "# References"
   ]
  },
  {
   "cell_type": "code",
   "execution_count": 30,
   "metadata": {},
   "outputs": [],
   "source": [
    "%reload_ext autoreload\n",
    "%autoreload 2\n",
    "%matplotlib inline\n",
    "\n",
    "import os\n",
    "os.sys.path.append('../fastai/') #fastai version 1\n",
    "\n",
    "from pathlib import Path\n",
    "import numpy as np\n",
    "import cv2\n",
    "\n",
    "import torch\n",
    "import torch.nn as nn\n",
    "import torch.nn.functional as F\n",
    "import torchvision\n",
    "from torchsummary import summary\n",
    "\n",
    "import fastai\n",
    "from fastai import *\n",
    "from fastai.vision import *\n",
    "from fastai.vision.image import *"
   ]
  },
  {
   "cell_type": "markdown",
   "metadata": {},
   "source": [
    "# Global Variables"
   ]
  },
  {
   "cell_type": "code",
   "execution_count": 31,
   "metadata": {},
   "outputs": [],
   "source": [
    "torch.cuda.set_device(1)\n",
    "\n",
    "DP = Path('/home/Deep_Learner/work/datasets/human-protein-atlas-image-classification/')\n",
    "STAGE_ONE_DATA = DP/'stage1_data'\n",
    "TRAIN_PNGS = 'train_pngs_512'\n",
    "TEST_PNGS = 'test_pngs_512'\n",
    "TRAIN_CSV = 'train.csv'\n",
    "SAMPLE_SUBMISSION_CSV = 'sample_submission.csv'\n",
    "\n",
    "\n",
    "SUBMISSIONS = DP/STAGE_ONE_DATA/'submissions'\n",
    "SUBMISSIONS.mkdir(exist_ok=True)\n",
    "\n",
    "IdToCatDict = {0:'Nucleoplasm',\n",
    "               1:'Nuclear_membrane',\n",
    "               2:'Nucleoli',\n",
    "               3:'Nucleoli_fibrillar_center',\n",
    "               4:'Nuclear_speckles',\n",
    "               5:'Nuclear_bodies',\n",
    "               6:'Endoplasmic_reticulum',\n",
    "               7:'Golgi_apparatus',\n",
    "               8:'Peroxisomes',\n",
    "               9:'Endosomes',\n",
    "               10:'Lysosomes',\n",
    "               11:'Intermediate_filaments',\n",
    "               12:'Actin_filaments',\n",
    "               13:'Focal_adhesion_sites',\n",
    "               14:'Microtubules',\n",
    "               15:'Microtubule_ends',\n",
    "               16:'Cytokinetic_bridge',\n",
    "               17:'Mitotic_spindle',\n",
    "               18:'Microtubule_organizing_center',\n",
    "               19:'Centrosome',\n",
    "               20:'Lipid_droplets',\n",
    "               21:'Plasma_membrane',\n",
    "               22:'Cell_junctions',\n",
    "               23:'Mitochondria',\n",
    "               24:'Aggresome',\n",
    "               25:'Cytosol',\n",
    "               26:'Cytoplasmic_bodies',\n",
    "               27:'Rods_&_rings'}\n",
    "\n",
    "sz = 512\n",
    "original_img_sz = 512\n",
    "bs = 64\n",
    "val_split = 0.2\n",
    "np.random.seed(42)"
   ]
  },
  {
   "cell_type": "markdown",
   "metadata": {},
   "source": [
    "# Data"
   ]
  },
  {
   "cell_type": "markdown",
   "metadata": {},
   "source": [
    "## Image opener function"
   ]
  },
  {
   "cell_type": "code",
   "execution_count": 4,
   "metadata": {},
   "outputs": [],
   "source": [
    "def open_4_channel(fname):\n",
    "    fname = str(fname)\n",
    "    # strip extension before adding color\n",
    "    if fname.endswith('.png'):\n",
    "        fname = fname[:-4]\n",
    "    colors = ['red','green','blue','yellow']\n",
    "    flags = cv2.IMREAD_GRAYSCALE\n",
    "    img = [cv2.imread(fname+'_'+color+'.png', flags).astype(np.float32)/255\n",
    "           for color in colors]\n",
    "    \n",
    "    x = np.stack(img, axis=-1)\n",
    "    return Image(pil2tensor(x, np.float32).float())"
   ]
  },
  {
   "cell_type": "markdown",
   "metadata": {},
   "source": [
    "## Transforms"
   ]
  },
  {
   "cell_type": "code",
   "execution_count": 18,
   "metadata": {},
   "outputs": [],
   "source": [
    "tfms = get_transforms(do_flip=True, flip_vert=True, max_rotate=30., max_zoom=1,\n",
    "                      max_lighting=0.05, max_warp=0.)"
   ]
  },
  {
   "cell_type": "markdown",
   "metadata": {},
   "source": [
    "## class ImageMulti4Channel(ImageMultiDataset):"
   ]
  },
  {
   "cell_type": "code",
   "execution_count": 16,
   "metadata": {},
   "outputs": [
    {
     "ename": "NameError",
     "evalue": "name 'ImageMultiDataset' is not defined",
     "output_type": "error",
     "traceback": [
      "\u001b[0;31m---------------------------------------------------------------------------\u001b[0m",
      "\u001b[0;31mNameError\u001b[0m                                 Traceback (most recent call last)",
      "\u001b[0;32m<ipython-input-16-b92dcc4a2d69>\u001b[0m in \u001b[0;36m<module>\u001b[0;34m()\u001b[0m\n\u001b[0;32m----> 1\u001b[0;31m \u001b[0;32mclass\u001b[0m \u001b[0mImageMulti4Channel\u001b[0m\u001b[0;34m(\u001b[0m\u001b[0mImageMultiDataset\u001b[0m\u001b[0;34m)\u001b[0m\u001b[0;34m:\u001b[0m\u001b[0;34m\u001b[0m\u001b[0m\n\u001b[0m\u001b[1;32m      2\u001b[0m     \u001b[0;32mdef\u001b[0m \u001b[0m__init__\u001b[0m\u001b[0;34m(\u001b[0m\u001b[0mself\u001b[0m\u001b[0;34m,\u001b[0m \u001b[0mfns\u001b[0m\u001b[0;34m,\u001b[0m \u001b[0mlabels\u001b[0m\u001b[0;34m,\u001b[0m \u001b[0mclasses\u001b[0m\u001b[0;34m=\u001b[0m\u001b[0;32mNone\u001b[0m\u001b[0;34m,\u001b[0m \u001b[0;34m**\u001b[0m\u001b[0mkwargs\u001b[0m\u001b[0;34m)\u001b[0m\u001b[0;34m:\u001b[0m\u001b[0;34m\u001b[0m\u001b[0m\n\u001b[1;32m      3\u001b[0m         \u001b[0msuper\u001b[0m\u001b[0;34m(\u001b[0m\u001b[0;34m)\u001b[0m\u001b[0;34m.\u001b[0m\u001b[0m__init__\u001b[0m\u001b[0;34m(\u001b[0m\u001b[0mfns\u001b[0m\u001b[0;34m,\u001b[0m \u001b[0mlabels\u001b[0m\u001b[0;34m,\u001b[0m \u001b[0mclasses\u001b[0m\u001b[0;34m,\u001b[0m \u001b[0;34m**\u001b[0m\u001b[0mkwargs\u001b[0m\u001b[0;34m)\u001b[0m\u001b[0;34m\u001b[0m\u001b[0m\n\u001b[1;32m      4\u001b[0m         \u001b[0mself\u001b[0m\u001b[0;34m.\u001b[0m\u001b[0mimage_opener\u001b[0m \u001b[0;34m=\u001b[0m \u001b[0mopen_4_channel\u001b[0m\u001b[0;34m\u001b[0m\u001b[0m\n\u001b[1;32m      5\u001b[0m \u001b[0;34m\u001b[0m\u001b[0m\n",
      "\u001b[0;31mNameError\u001b[0m: name 'ImageMultiDataset' is not defined"
     ]
    }
   ],
   "source": [
    "class ImageMulti4Channel(ImageMultiDataset):\n",
    "    def __init__(self, fns, labels, classes=None, **kwargs):\n",
    "        super().__init__(fns, labels, classes, **kwargs)\n",
    "        self.image_opener = open_4_channel\n",
    "        \n",
    "df = pd.read_csv(STAGE_ONE_DATA/TRAIN_CSV)\n",
    "fns = pd.Series([id + '.png' for id in df.Id])\n",
    "labels = [targ.split(' ') for targ in df.Target]\n",
    "trn_ds, val_ds = ImageMulti4Channel.from_folder(path=STAGE_ONE_DATA,\n",
    "                                                folder=TRAIN_PNGS, \n",
    "                                                fns=fns, \n",
    "                                                labels=labels,\n",
    "                                                valid_pct = val_split,\n",
    "                                                classes=[str(i) for i in range(28)])\n",
    "\n",
    "df_test = pd.read_csv(STAGE_ONE_DATA/SAMPLE_SUBMISSION_CSV)\n",
    "fns_test = pd.Series([id + '.png' for id in df_test.Id])\n",
    "labels_test = [str(targ).split(' ') for targ in df_test.Predicted]\n",
    "test_ds,_ = ImageMulti4Channel.from_folder(\n",
    "    path = STAGE_ONE_DATA, \n",
    "    folder=TEST_PNGS, \n",
    "    fns=fns_test, \n",
    "    labels=labels_test,\n",
    "    valid_pct=0,\n",
    "    classes=['0'])\n",
    "\n",
    "trn_tfms,_ = tfms\n",
    "\n",
    "protein_stats = ([0.08069, 0.05258, 0.05487, 0.08282], [0.13704, 0.10145, 0.15313, 0.13814])\n",
    "\n",
    "data = ImageDataBunch.create(trn_ds, \n",
    "                             val_ds, \n",
    "                             test_ds=test_ds, \n",
    "                             path=STAGE_ONE_DATA, \n",
    "                             bs=bs, \n",
    "                             ds_tfms=(trn_tfms, []), \n",
    "                             num_workers=8, size=sz).normalize(protein_stats)"
   ]
  },
  {
   "cell_type": "markdown",
   "metadata": {},
   "source": [
    "## Fastai data_block api"
   ]
  },
  {
   "cell_type": "code",
   "execution_count": 53,
   "metadata": {},
   "outputs": [],
   "source": [
    "data = ImageItemList.from_csv(path=STAGE_ONE_DATA,\n",
    "                              csv_name=TRAIN_CSV,\n",
    "                              create_func = open_4_channel,\n",
    "                              col='Id', \n",
    "                              folder=TRAIN_PNGS, \n",
    "                              suffix=\".png\")"
   ]
  },
  {
   "cell_type": "code",
   "execution_count": 54,
   "metadata": {},
   "outputs": [],
   "source": [
    "data = data.label_from_df(cols='Target', sep=' ')"
   ]
  },
  {
   "cell_type": "code",
   "execution_count": 55,
   "metadata": {},
   "outputs": [],
   "source": [
    "data = data.random_split_by_pct(valid_pct=val_split)"
   ]
  },
  {
   "cell_type": "code",
   "execution_count": 56,
   "metadata": {},
   "outputs": [
    {
     "ename": "AttributeError",
     "evalue": "'ImageItemList' object has no attribute 'transform'",
     "output_type": "error",
     "traceback": [
      "\u001b[0;31m---------------------------------------------------------------------------\u001b[0m",
      "\u001b[0;31mAttributeError\u001b[0m                            Traceback (most recent call last)",
      "\u001b[0;32m<ipython-input-56-8a05b007c224>\u001b[0m in \u001b[0;36m<module>\u001b[0;34m()\u001b[0m\n\u001b[0;32m----> 1\u001b[0;31m \u001b[0mdata\u001b[0m \u001b[0;34m=\u001b[0m \u001b[0mdata\u001b[0m\u001b[0;34m.\u001b[0m\u001b[0mtransform\u001b[0m\u001b[0;34m(\u001b[0m\u001b[0mtfms\u001b[0m\u001b[0;34m=\u001b[0m\u001b[0mtfms\u001b[0m\u001b[0;34m,\u001b[0m \u001b[0msize\u001b[0m\u001b[0;34m=\u001b[0m\u001b[0msz\u001b[0m\u001b[0;34m)\u001b[0m\u001b[0;34m\u001b[0m\u001b[0m\n\u001b[0m",
      "\u001b[0;32m~/work/fastai/fastai/data_block.py\u001b[0m in \u001b[0;36mtransform\u001b[0;34m(self, tfms, **kwargs)\u001b[0m\n\u001b[1;32m    305\u001b[0m         \u001b[0;34m\"Set `tfms` to be applied to the train and validation set.\"\u001b[0m\u001b[0;34m\u001b[0m\u001b[0m\n\u001b[1;32m    306\u001b[0m         \u001b[0;32mif\u001b[0m \u001b[0;32mnot\u001b[0m \u001b[0mtfms\u001b[0m\u001b[0;34m:\u001b[0m \u001b[0;32mreturn\u001b[0m \u001b[0mself\u001b[0m\u001b[0;34m\u001b[0m\u001b[0m\n\u001b[0;32m--> 307\u001b[0;31m         \u001b[0mself\u001b[0m\u001b[0;34m.\u001b[0m\u001b[0mtrain\u001b[0m\u001b[0;34m.\u001b[0m\u001b[0mtransform\u001b[0m\u001b[0;34m(\u001b[0m\u001b[0mtfms\u001b[0m\u001b[0;34m[\u001b[0m\u001b[0;36m0\u001b[0m\u001b[0;34m]\u001b[0m\u001b[0;34m,\u001b[0m \u001b[0;34m**\u001b[0m\u001b[0mkwargs\u001b[0m\u001b[0;34m)\u001b[0m\u001b[0;34m\u001b[0m\u001b[0m\n\u001b[0m\u001b[1;32m    308\u001b[0m         \u001b[0mself\u001b[0m\u001b[0;34m.\u001b[0m\u001b[0mvalid\u001b[0m\u001b[0;34m.\u001b[0m\u001b[0mtransform\u001b[0m\u001b[0;34m(\u001b[0m\u001b[0mtfms\u001b[0m\u001b[0;34m[\u001b[0m\u001b[0;36m1\u001b[0m\u001b[0;34m]\u001b[0m\u001b[0;34m,\u001b[0m \u001b[0;34m**\u001b[0m\u001b[0mkwargs\u001b[0m\u001b[0;34m)\u001b[0m\u001b[0;34m\u001b[0m\u001b[0m\n\u001b[1;32m    309\u001b[0m         \u001b[0;32mif\u001b[0m \u001b[0mself\u001b[0m\u001b[0;34m.\u001b[0m\u001b[0mtest\u001b[0m\u001b[0;34m:\u001b[0m \u001b[0mself\u001b[0m\u001b[0;34m.\u001b[0m\u001b[0mtest\u001b[0m\u001b[0;34m.\u001b[0m\u001b[0mtransform\u001b[0m\u001b[0;34m(\u001b[0m\u001b[0mtfms\u001b[0m\u001b[0;34m[\u001b[0m\u001b[0;36m1\u001b[0m\u001b[0;34m]\u001b[0m\u001b[0;34m,\u001b[0m \u001b[0;34m**\u001b[0m\u001b[0mkwargs\u001b[0m\u001b[0;34m)\u001b[0m\u001b[0;34m\u001b[0m\u001b[0m\n",
      "\u001b[0;31mAttributeError\u001b[0m: 'ImageItemList' object has no attribute 'transform'"
     ]
    }
   ],
   "source": [
    "data = data.transform(tfms=tfms, size=sz)"
   ]
  },
  {
   "cell_type": "code",
   "execution_count": null,
   "metadata": {},
   "outputs": [],
   "source": []
  },
  {
   "cell_type": "code",
   "execution_count": null,
   "metadata": {},
   "outputs": [],
   "source": []
  },
  {
   "cell_type": "markdown",
   "metadata": {},
   "source": [
    "# Loss Function/Metrics"
   ]
  },
  {
   "cell_type": "code",
   "execution_count": 5,
   "metadata": {},
   "outputs": [],
   "source": [
    "class FocalLoss(nn.Module):\n",
    "    def __init__(self, gamma=2):\n",
    "        super().__init__()\n",
    "        self.gamma = gamma\n",
    "        \n",
    "    def forward(self, input, target):\n",
    "        if not (target.size() == input.size()):\n",
    "            raise ValueError(\"Target size ({}) must be the same as input size ({})\"\n",
    "                             .format(target.size(), input.size()))\n",
    "\n",
    "        max_val = (-input).clamp(min=0)\n",
    "        loss = input - input * target + max_val + \\\n",
    "            ((-max_val).exp() + (-input - max_val).exp()).log()\n",
    "\n",
    "        invprobs = F.logsigmoid(-input * (target * 2.0 - 1.0))\n",
    "        loss = (invprobs * self.gamma).exp() * loss\n",
    "        \n",
    "        return loss.sum(dim=1).mean()\n",
    "\n",
    "\n",
    "f1_score = partial(fbeta, thresh=0.5, beta=1)"
   ]
  },
  {
   "cell_type": "markdown",
   "metadata": {},
   "source": [
    "# Model"
   ]
  },
  {
   "cell_type": "code",
   "execution_count": 9,
   "metadata": {},
   "outputs": [],
   "source": [
    "res = torchvision.models.resnet50(pretrained=True)"
   ]
  },
  {
   "cell_type": "code",
   "execution_count": 16,
   "metadata": {},
   "outputs": [
    {
     "data": {
      "text/plain": [
       "torch.Size([64, 1, 7, 7])"
      ]
     },
     "execution_count": 16,
     "metadata": {},
     "output_type": "execute_result"
    }
   ],
   "source": [
    "res.conv1.weight[:,:1,:,:].shape"
   ]
  },
  {
   "cell_type": "code",
   "execution_count": 17,
   "metadata": {},
   "outputs": [],
   "source": [
    "RESNET_ENCODERS = {\n",
    "    34: torchvision.models.resnet34,\n",
    "    50: torchvision.models.resnet50,\n",
    "    101: torchvision.models.resnet101,\n",
    "    152: torchvision.models.resnet152,\n",
    "}\n",
    "\n",
    "\n",
    "class Resnet4Channel(nn.Module):\n",
    "    def __init__(self, encoder_depth=34, pretrained=True, num_classes=28):\n",
    "        super().__init__()\n",
    "\n",
    "        self.encoder = RESNET_ENCODERS[encoder_depth](pretrained=pretrained)\n",
    "        \n",
    "        w = self.encoder.conv1.weight\n",
    "        self.conv1 = nn.Conv2d(4, 64, kernel_size=7, stride=2, padding=3,\n",
    "                               bias=False)\n",
    "        #self.conv1.weight = nn.Parameter(torch.cat((w,torch.zeros(64,1,7,7)),dim=1))\n",
    "        self.conv1.weight = torch.nn.Parameter(torch.cat((w,w[:,:1,:,:]),dim=1))\n",
    "        \n",
    "        self.bn1 = self.encoder.bn1\n",
    "        self.relu = nn.ReLU(inplace=True) \n",
    "        self.maxpool = nn.MaxPool2d(kernel_size=3, stride=2, padding=1)\n",
    "\n",
    "        self.layer1 = self.encoder.layer1\n",
    "        self.layer2 = self.encoder.layer2\n",
    "        self.layer3 = self.encoder.layer3\n",
    "        self.layer4 = self.encoder.layer4\n",
    "        \n",
    "        self.avgpool = self.encoder.avgpool\n",
    "        self.fc = nn.Linear(512 * (1 if encoder_depth==34 else 4), num_classes)        \n",
    "        \n",
    "        ##not giving a good score\n",
    "        #self.custom_head = fastai.vision.learner.create_head(nf = 512 * (1 if encoder_depth==34 else 4)*2, nc = num_classes)\n",
    "        \n",
    "        \n",
    "    def forward(self, x):\n",
    "        x = self.conv1(x)\n",
    "        x = self.bn1(x)\n",
    "        x = self.relu(x)\n",
    "        x = self.maxpool(x)\n",
    "\n",
    "        x = self.layer1(x)\n",
    "        x = self.layer2(x)\n",
    "        x = self.layer3(x)\n",
    "        x = self.layer4(x)\n",
    "\n",
    "        x = self.avgpool(x)\n",
    "        x = x.view(x.size(0), -1)\n",
    "        x = self.fc(x)\n",
    "        \n",
    "        ##not giving a good score        \n",
    "        #x = self.custom_head(x)\n",
    "        \n",
    "        return x"
   ]
  },
  {
   "cell_type": "markdown",
   "metadata": {},
   "source": [
    "# Train"
   ]
  },
  {
   "cell_type": "code",
   "execution_count": 18,
   "metadata": {},
   "outputs": [
    {
     "name": "stdout",
     "output_type": "stream",
     "text": [
      "----------------------------------------------------------------\n",
      "        Layer (type)               Output Shape         Param #\n",
      "================================================================\n",
      "            Conv2d-1         [-1, 64, 112, 112]          12,544\n",
      "       BatchNorm2d-2         [-1, 64, 112, 112]             128\n",
      "       BatchNorm2d-3         [-1, 64, 112, 112]             128\n",
      "              ReLU-4         [-1, 64, 112, 112]               0\n",
      "         MaxPool2d-5           [-1, 64, 56, 56]               0\n",
      "            Conv2d-6           [-1, 64, 56, 56]           4,096\n",
      "            Conv2d-7           [-1, 64, 56, 56]           4,096\n",
      "       BatchNorm2d-8           [-1, 64, 56, 56]             128\n",
      "       BatchNorm2d-9           [-1, 64, 56, 56]             128\n",
      "             ReLU-10           [-1, 64, 56, 56]               0\n",
      "             ReLU-11           [-1, 64, 56, 56]               0\n",
      "           Conv2d-12           [-1, 64, 56, 56]          36,864\n",
      "           Conv2d-13           [-1, 64, 56, 56]          36,864\n",
      "      BatchNorm2d-14           [-1, 64, 56, 56]             128\n",
      "      BatchNorm2d-15           [-1, 64, 56, 56]             128\n",
      "             ReLU-16           [-1, 64, 56, 56]               0\n",
      "             ReLU-17           [-1, 64, 56, 56]               0\n",
      "           Conv2d-18          [-1, 256, 56, 56]          16,384\n",
      "           Conv2d-19          [-1, 256, 56, 56]          16,384\n",
      "      BatchNorm2d-20          [-1, 256, 56, 56]             512\n",
      "      BatchNorm2d-21          [-1, 256, 56, 56]             512\n",
      "           Conv2d-22          [-1, 256, 56, 56]          16,384\n",
      "           Conv2d-23          [-1, 256, 56, 56]          16,384\n",
      "      BatchNorm2d-24          [-1, 256, 56, 56]             512\n",
      "      BatchNorm2d-25          [-1, 256, 56, 56]             512\n",
      "             ReLU-26          [-1, 256, 56, 56]               0\n",
      "             ReLU-27          [-1, 256, 56, 56]               0\n",
      "       Bottleneck-28          [-1, 256, 56, 56]               0\n",
      "       Bottleneck-29          [-1, 256, 56, 56]               0\n",
      "           Conv2d-30           [-1, 64, 56, 56]          16,384\n",
      "           Conv2d-31           [-1, 64, 56, 56]          16,384\n",
      "      BatchNorm2d-32           [-1, 64, 56, 56]             128\n",
      "      BatchNorm2d-33           [-1, 64, 56, 56]             128\n",
      "             ReLU-34           [-1, 64, 56, 56]               0\n",
      "             ReLU-35           [-1, 64, 56, 56]               0\n",
      "           Conv2d-36           [-1, 64, 56, 56]          36,864\n",
      "           Conv2d-37           [-1, 64, 56, 56]          36,864\n",
      "      BatchNorm2d-38           [-1, 64, 56, 56]             128\n",
      "      BatchNorm2d-39           [-1, 64, 56, 56]             128\n",
      "             ReLU-40           [-1, 64, 56, 56]               0\n",
      "             ReLU-41           [-1, 64, 56, 56]               0\n",
      "           Conv2d-42          [-1, 256, 56, 56]          16,384\n",
      "           Conv2d-43          [-1, 256, 56, 56]          16,384\n",
      "      BatchNorm2d-44          [-1, 256, 56, 56]             512\n",
      "      BatchNorm2d-45          [-1, 256, 56, 56]             512\n",
      "             ReLU-46          [-1, 256, 56, 56]               0\n",
      "             ReLU-47          [-1, 256, 56, 56]               0\n",
      "       Bottleneck-48          [-1, 256, 56, 56]               0\n",
      "       Bottleneck-49          [-1, 256, 56, 56]               0\n",
      "           Conv2d-50           [-1, 64, 56, 56]          16,384\n",
      "           Conv2d-51           [-1, 64, 56, 56]          16,384\n",
      "      BatchNorm2d-52           [-1, 64, 56, 56]             128\n",
      "      BatchNorm2d-53           [-1, 64, 56, 56]             128\n",
      "             ReLU-54           [-1, 64, 56, 56]               0\n",
      "             ReLU-55           [-1, 64, 56, 56]               0\n",
      "           Conv2d-56           [-1, 64, 56, 56]          36,864\n",
      "           Conv2d-57           [-1, 64, 56, 56]          36,864\n",
      "      BatchNorm2d-58           [-1, 64, 56, 56]             128\n",
      "      BatchNorm2d-59           [-1, 64, 56, 56]             128\n",
      "             ReLU-60           [-1, 64, 56, 56]               0\n",
      "             ReLU-61           [-1, 64, 56, 56]               0\n",
      "           Conv2d-62          [-1, 256, 56, 56]          16,384\n",
      "           Conv2d-63          [-1, 256, 56, 56]          16,384\n",
      "      BatchNorm2d-64          [-1, 256, 56, 56]             512\n",
      "      BatchNorm2d-65          [-1, 256, 56, 56]             512\n",
      "             ReLU-66          [-1, 256, 56, 56]               0\n",
      "             ReLU-67          [-1, 256, 56, 56]               0\n",
      "       Bottleneck-68          [-1, 256, 56, 56]               0\n",
      "       Bottleneck-69          [-1, 256, 56, 56]               0\n",
      "           Conv2d-70          [-1, 128, 56, 56]          32,768\n",
      "           Conv2d-71          [-1, 128, 56, 56]          32,768\n",
      "      BatchNorm2d-72          [-1, 128, 56, 56]             256\n",
      "      BatchNorm2d-73          [-1, 128, 56, 56]             256\n",
      "             ReLU-74          [-1, 128, 56, 56]               0\n",
      "             ReLU-75          [-1, 128, 56, 56]               0\n",
      "           Conv2d-76          [-1, 128, 28, 28]         147,456\n",
      "           Conv2d-77          [-1, 128, 28, 28]         147,456\n",
      "      BatchNorm2d-78          [-1, 128, 28, 28]             256\n",
      "      BatchNorm2d-79          [-1, 128, 28, 28]             256\n",
      "             ReLU-80          [-1, 128, 28, 28]               0\n",
      "             ReLU-81          [-1, 128, 28, 28]               0\n",
      "           Conv2d-82          [-1, 512, 28, 28]          65,536\n",
      "           Conv2d-83          [-1, 512, 28, 28]          65,536\n",
      "      BatchNorm2d-84          [-1, 512, 28, 28]           1,024\n",
      "      BatchNorm2d-85          [-1, 512, 28, 28]           1,024\n",
      "           Conv2d-86          [-1, 512, 28, 28]         131,072\n",
      "           Conv2d-87          [-1, 512, 28, 28]         131,072\n",
      "      BatchNorm2d-88          [-1, 512, 28, 28]           1,024\n",
      "      BatchNorm2d-89          [-1, 512, 28, 28]           1,024\n",
      "             ReLU-90          [-1, 512, 28, 28]               0\n",
      "             ReLU-91          [-1, 512, 28, 28]               0\n",
      "       Bottleneck-92          [-1, 512, 28, 28]               0\n",
      "       Bottleneck-93          [-1, 512, 28, 28]               0\n",
      "           Conv2d-94          [-1, 128, 28, 28]          65,536\n",
      "           Conv2d-95          [-1, 128, 28, 28]          65,536\n",
      "      BatchNorm2d-96          [-1, 128, 28, 28]             256\n",
      "      BatchNorm2d-97          [-1, 128, 28, 28]             256\n",
      "             ReLU-98          [-1, 128, 28, 28]               0\n",
      "             ReLU-99          [-1, 128, 28, 28]               0\n",
      "          Conv2d-100          [-1, 128, 28, 28]         147,456\n",
      "          Conv2d-101          [-1, 128, 28, 28]         147,456\n",
      "     BatchNorm2d-102          [-1, 128, 28, 28]             256\n",
      "     BatchNorm2d-103          [-1, 128, 28, 28]             256\n",
      "            ReLU-104          [-1, 128, 28, 28]               0\n",
      "            ReLU-105          [-1, 128, 28, 28]               0\n",
      "          Conv2d-106          [-1, 512, 28, 28]          65,536\n",
      "          Conv2d-107          [-1, 512, 28, 28]          65,536\n",
      "     BatchNorm2d-108          [-1, 512, 28, 28]           1,024\n",
      "     BatchNorm2d-109          [-1, 512, 28, 28]           1,024\n",
      "            ReLU-110          [-1, 512, 28, 28]               0\n",
      "            ReLU-111          [-1, 512, 28, 28]               0\n",
      "      Bottleneck-112          [-1, 512, 28, 28]               0\n",
      "      Bottleneck-113          [-1, 512, 28, 28]               0\n",
      "          Conv2d-114          [-1, 128, 28, 28]          65,536\n",
      "          Conv2d-115          [-1, 128, 28, 28]          65,536\n",
      "     BatchNorm2d-116          [-1, 128, 28, 28]             256\n",
      "     BatchNorm2d-117          [-1, 128, 28, 28]             256\n",
      "            ReLU-118          [-1, 128, 28, 28]               0\n",
      "            ReLU-119          [-1, 128, 28, 28]               0\n",
      "          Conv2d-120          [-1, 128, 28, 28]         147,456\n",
      "          Conv2d-121          [-1, 128, 28, 28]         147,456\n",
      "     BatchNorm2d-122          [-1, 128, 28, 28]             256\n",
      "     BatchNorm2d-123          [-1, 128, 28, 28]             256\n",
      "            ReLU-124          [-1, 128, 28, 28]               0\n",
      "            ReLU-125          [-1, 128, 28, 28]               0\n",
      "          Conv2d-126          [-1, 512, 28, 28]          65,536\n",
      "          Conv2d-127          [-1, 512, 28, 28]          65,536\n",
      "     BatchNorm2d-128          [-1, 512, 28, 28]           1,024\n",
      "     BatchNorm2d-129          [-1, 512, 28, 28]           1,024\n",
      "            ReLU-130          [-1, 512, 28, 28]               0\n",
      "            ReLU-131          [-1, 512, 28, 28]               0\n",
      "      Bottleneck-132          [-1, 512, 28, 28]               0\n",
      "      Bottleneck-133          [-1, 512, 28, 28]               0\n",
      "          Conv2d-134          [-1, 128, 28, 28]          65,536\n",
      "          Conv2d-135          [-1, 128, 28, 28]          65,536\n",
      "     BatchNorm2d-136          [-1, 128, 28, 28]             256\n",
      "     BatchNorm2d-137          [-1, 128, 28, 28]             256\n",
      "            ReLU-138          [-1, 128, 28, 28]               0\n",
      "            ReLU-139          [-1, 128, 28, 28]               0\n",
      "          Conv2d-140          [-1, 128, 28, 28]         147,456\n",
      "          Conv2d-141          [-1, 128, 28, 28]         147,456\n",
      "     BatchNorm2d-142          [-1, 128, 28, 28]             256\n",
      "     BatchNorm2d-143          [-1, 128, 28, 28]             256\n",
      "            ReLU-144          [-1, 128, 28, 28]               0\n",
      "            ReLU-145          [-1, 128, 28, 28]               0\n",
      "          Conv2d-146          [-1, 512, 28, 28]          65,536\n",
      "          Conv2d-147          [-1, 512, 28, 28]          65,536\n",
      "     BatchNorm2d-148          [-1, 512, 28, 28]           1,024\n",
      "     BatchNorm2d-149          [-1, 512, 28, 28]           1,024\n",
      "            ReLU-150          [-1, 512, 28, 28]               0\n",
      "            ReLU-151          [-1, 512, 28, 28]               0\n",
      "      Bottleneck-152          [-1, 512, 28, 28]               0\n",
      "      Bottleneck-153          [-1, 512, 28, 28]               0\n",
      "          Conv2d-154          [-1, 256, 28, 28]         131,072\n",
      "          Conv2d-155          [-1, 256, 28, 28]         131,072\n",
      "     BatchNorm2d-156          [-1, 256, 28, 28]             512\n",
      "     BatchNorm2d-157          [-1, 256, 28, 28]             512\n",
      "            ReLU-158          [-1, 256, 28, 28]               0\n",
      "            ReLU-159          [-1, 256, 28, 28]               0\n",
      "          Conv2d-160          [-1, 256, 14, 14]         589,824\n",
      "          Conv2d-161          [-1, 256, 14, 14]         589,824\n",
      "     BatchNorm2d-162          [-1, 256, 14, 14]             512\n",
      "     BatchNorm2d-163          [-1, 256, 14, 14]             512\n",
      "            ReLU-164          [-1, 256, 14, 14]               0\n",
      "            ReLU-165          [-1, 256, 14, 14]               0\n",
      "          Conv2d-166         [-1, 1024, 14, 14]         262,144\n",
      "          Conv2d-167         [-1, 1024, 14, 14]         262,144\n",
      "     BatchNorm2d-168         [-1, 1024, 14, 14]           2,048\n",
      "     BatchNorm2d-169         [-1, 1024, 14, 14]           2,048\n",
      "          Conv2d-170         [-1, 1024, 14, 14]         524,288\n",
      "          Conv2d-171         [-1, 1024, 14, 14]         524,288\n",
      "     BatchNorm2d-172         [-1, 1024, 14, 14]           2,048\n",
      "     BatchNorm2d-173         [-1, 1024, 14, 14]           2,048\n",
      "            ReLU-174         [-1, 1024, 14, 14]               0\n",
      "            ReLU-175         [-1, 1024, 14, 14]               0\n",
      "      Bottleneck-176         [-1, 1024, 14, 14]               0\n",
      "      Bottleneck-177         [-1, 1024, 14, 14]               0\n",
      "          Conv2d-178          [-1, 256, 14, 14]         262,144\n",
      "          Conv2d-179          [-1, 256, 14, 14]         262,144\n",
      "     BatchNorm2d-180          [-1, 256, 14, 14]             512\n",
      "     BatchNorm2d-181          [-1, 256, 14, 14]             512\n",
      "            ReLU-182          [-1, 256, 14, 14]               0\n",
      "            ReLU-183          [-1, 256, 14, 14]               0\n",
      "          Conv2d-184          [-1, 256, 14, 14]         589,824\n",
      "          Conv2d-185          [-1, 256, 14, 14]         589,824\n",
      "     BatchNorm2d-186          [-1, 256, 14, 14]             512\n",
      "     BatchNorm2d-187          [-1, 256, 14, 14]             512\n",
      "            ReLU-188          [-1, 256, 14, 14]               0\n",
      "            ReLU-189          [-1, 256, 14, 14]               0\n",
      "          Conv2d-190         [-1, 1024, 14, 14]         262,144\n",
      "          Conv2d-191         [-1, 1024, 14, 14]         262,144\n",
      "     BatchNorm2d-192         [-1, 1024, 14, 14]           2,048\n",
      "     BatchNorm2d-193         [-1, 1024, 14, 14]           2,048\n",
      "            ReLU-194         [-1, 1024, 14, 14]               0\n",
      "            ReLU-195         [-1, 1024, 14, 14]               0\n",
      "      Bottleneck-196         [-1, 1024, 14, 14]               0\n",
      "      Bottleneck-197         [-1, 1024, 14, 14]               0\n",
      "          Conv2d-198          [-1, 256, 14, 14]         262,144\n",
      "          Conv2d-199          [-1, 256, 14, 14]         262,144\n",
      "     BatchNorm2d-200          [-1, 256, 14, 14]             512\n",
      "     BatchNorm2d-201          [-1, 256, 14, 14]             512\n",
      "            ReLU-202          [-1, 256, 14, 14]               0\n",
      "            ReLU-203          [-1, 256, 14, 14]               0\n",
      "          Conv2d-204          [-1, 256, 14, 14]         589,824\n",
      "          Conv2d-205          [-1, 256, 14, 14]         589,824\n",
      "     BatchNorm2d-206          [-1, 256, 14, 14]             512\n",
      "     BatchNorm2d-207          [-1, 256, 14, 14]             512\n",
      "            ReLU-208          [-1, 256, 14, 14]               0\n",
      "            ReLU-209          [-1, 256, 14, 14]               0\n",
      "          Conv2d-210         [-1, 1024, 14, 14]         262,144\n",
      "          Conv2d-211         [-1, 1024, 14, 14]         262,144\n",
      "     BatchNorm2d-212         [-1, 1024, 14, 14]           2,048\n",
      "     BatchNorm2d-213         [-1, 1024, 14, 14]           2,048\n",
      "            ReLU-214         [-1, 1024, 14, 14]               0\n",
      "            ReLU-215         [-1, 1024, 14, 14]               0\n",
      "      Bottleneck-216         [-1, 1024, 14, 14]               0\n",
      "      Bottleneck-217         [-1, 1024, 14, 14]               0\n",
      "          Conv2d-218          [-1, 256, 14, 14]         262,144\n",
      "          Conv2d-219          [-1, 256, 14, 14]         262,144\n",
      "     BatchNorm2d-220          [-1, 256, 14, 14]             512\n",
      "     BatchNorm2d-221          [-1, 256, 14, 14]             512\n",
      "            ReLU-222          [-1, 256, 14, 14]               0\n",
      "            ReLU-223          [-1, 256, 14, 14]               0\n",
      "          Conv2d-224          [-1, 256, 14, 14]         589,824\n",
      "          Conv2d-225          [-1, 256, 14, 14]         589,824\n",
      "     BatchNorm2d-226          [-1, 256, 14, 14]             512\n",
      "     BatchNorm2d-227          [-1, 256, 14, 14]             512\n",
      "            ReLU-228          [-1, 256, 14, 14]               0\n",
      "            ReLU-229          [-1, 256, 14, 14]               0\n",
      "          Conv2d-230         [-1, 1024, 14, 14]         262,144\n",
      "          Conv2d-231         [-1, 1024, 14, 14]         262,144\n",
      "     BatchNorm2d-232         [-1, 1024, 14, 14]           2,048\n",
      "     BatchNorm2d-233         [-1, 1024, 14, 14]           2,048\n",
      "            ReLU-234         [-1, 1024, 14, 14]               0\n",
      "            ReLU-235         [-1, 1024, 14, 14]               0\n",
      "      Bottleneck-236         [-1, 1024, 14, 14]               0\n",
      "      Bottleneck-237         [-1, 1024, 14, 14]               0\n",
      "          Conv2d-238          [-1, 256, 14, 14]         262,144\n",
      "          Conv2d-239          [-1, 256, 14, 14]         262,144\n",
      "     BatchNorm2d-240          [-1, 256, 14, 14]             512\n",
      "     BatchNorm2d-241          [-1, 256, 14, 14]             512\n",
      "            ReLU-242          [-1, 256, 14, 14]               0\n",
      "            ReLU-243          [-1, 256, 14, 14]               0\n",
      "          Conv2d-244          [-1, 256, 14, 14]         589,824\n",
      "          Conv2d-245          [-1, 256, 14, 14]         589,824\n",
      "     BatchNorm2d-246          [-1, 256, 14, 14]             512\n",
      "     BatchNorm2d-247          [-1, 256, 14, 14]             512\n",
      "            ReLU-248          [-1, 256, 14, 14]               0\n",
      "            ReLU-249          [-1, 256, 14, 14]               0\n",
      "          Conv2d-250         [-1, 1024, 14, 14]         262,144\n",
      "          Conv2d-251         [-1, 1024, 14, 14]         262,144\n",
      "     BatchNorm2d-252         [-1, 1024, 14, 14]           2,048\n",
      "     BatchNorm2d-253         [-1, 1024, 14, 14]           2,048\n",
      "            ReLU-254         [-1, 1024, 14, 14]               0\n",
      "            ReLU-255         [-1, 1024, 14, 14]               0\n",
      "      Bottleneck-256         [-1, 1024, 14, 14]               0\n",
      "      Bottleneck-257         [-1, 1024, 14, 14]               0\n",
      "          Conv2d-258          [-1, 256, 14, 14]         262,144\n",
      "          Conv2d-259          [-1, 256, 14, 14]         262,144\n",
      "     BatchNorm2d-260          [-1, 256, 14, 14]             512\n",
      "     BatchNorm2d-261          [-1, 256, 14, 14]             512\n",
      "            ReLU-262          [-1, 256, 14, 14]               0\n",
      "            ReLU-263          [-1, 256, 14, 14]               0\n",
      "          Conv2d-264          [-1, 256, 14, 14]         589,824\n",
      "          Conv2d-265          [-1, 256, 14, 14]         589,824\n",
      "     BatchNorm2d-266          [-1, 256, 14, 14]             512\n",
      "     BatchNorm2d-267          [-1, 256, 14, 14]             512\n",
      "            ReLU-268          [-1, 256, 14, 14]               0\n",
      "            ReLU-269          [-1, 256, 14, 14]               0\n",
      "          Conv2d-270         [-1, 1024, 14, 14]         262,144\n",
      "          Conv2d-271         [-1, 1024, 14, 14]         262,144\n",
      "     BatchNorm2d-272         [-1, 1024, 14, 14]           2,048\n",
      "     BatchNorm2d-273         [-1, 1024, 14, 14]           2,048\n",
      "            ReLU-274         [-1, 1024, 14, 14]               0\n",
      "            ReLU-275         [-1, 1024, 14, 14]               0\n",
      "      Bottleneck-276         [-1, 1024, 14, 14]               0\n",
      "      Bottleneck-277         [-1, 1024, 14, 14]               0\n",
      "          Conv2d-278          [-1, 512, 14, 14]         524,288\n",
      "          Conv2d-279          [-1, 512, 14, 14]         524,288\n",
      "     BatchNorm2d-280          [-1, 512, 14, 14]           1,024\n",
      "     BatchNorm2d-281          [-1, 512, 14, 14]           1,024\n",
      "            ReLU-282          [-1, 512, 14, 14]               0\n",
      "            ReLU-283          [-1, 512, 14, 14]               0\n",
      "          Conv2d-284            [-1, 512, 7, 7]       2,359,296\n",
      "          Conv2d-285            [-1, 512, 7, 7]       2,359,296\n",
      "     BatchNorm2d-286            [-1, 512, 7, 7]           1,024\n",
      "     BatchNorm2d-287            [-1, 512, 7, 7]           1,024\n",
      "            ReLU-288            [-1, 512, 7, 7]               0\n",
      "            ReLU-289            [-1, 512, 7, 7]               0\n",
      "          Conv2d-290           [-1, 2048, 7, 7]       1,048,576\n",
      "          Conv2d-291           [-1, 2048, 7, 7]       1,048,576\n",
      "     BatchNorm2d-292           [-1, 2048, 7, 7]           4,096\n",
      "     BatchNorm2d-293           [-1, 2048, 7, 7]           4,096\n",
      "          Conv2d-294           [-1, 2048, 7, 7]       2,097,152\n",
      "          Conv2d-295           [-1, 2048, 7, 7]       2,097,152\n",
      "     BatchNorm2d-296           [-1, 2048, 7, 7]           4,096\n",
      "     BatchNorm2d-297           [-1, 2048, 7, 7]           4,096\n",
      "            ReLU-298           [-1, 2048, 7, 7]               0\n",
      "            ReLU-299           [-1, 2048, 7, 7]               0\n",
      "      Bottleneck-300           [-1, 2048, 7, 7]               0\n",
      "      Bottleneck-301           [-1, 2048, 7, 7]               0\n",
      "          Conv2d-302            [-1, 512, 7, 7]       1,048,576\n",
      "          Conv2d-303            [-1, 512, 7, 7]       1,048,576\n",
      "     BatchNorm2d-304            [-1, 512, 7, 7]           1,024\n",
      "     BatchNorm2d-305            [-1, 512, 7, 7]           1,024\n",
      "            ReLU-306            [-1, 512, 7, 7]               0\n",
      "            ReLU-307            [-1, 512, 7, 7]               0\n",
      "          Conv2d-308            [-1, 512, 7, 7]       2,359,296\n",
      "          Conv2d-309            [-1, 512, 7, 7]       2,359,296\n",
      "     BatchNorm2d-310            [-1, 512, 7, 7]           1,024\n",
      "     BatchNorm2d-311            [-1, 512, 7, 7]           1,024\n",
      "            ReLU-312            [-1, 512, 7, 7]               0\n",
      "            ReLU-313            [-1, 512, 7, 7]               0\n",
      "          Conv2d-314           [-1, 2048, 7, 7]       1,048,576\n",
      "          Conv2d-315           [-1, 2048, 7, 7]       1,048,576\n",
      "     BatchNorm2d-316           [-1, 2048, 7, 7]           4,096\n",
      "     BatchNorm2d-317           [-1, 2048, 7, 7]           4,096\n",
      "            ReLU-318           [-1, 2048, 7, 7]               0\n",
      "            ReLU-319           [-1, 2048, 7, 7]               0\n",
      "      Bottleneck-320           [-1, 2048, 7, 7]               0\n",
      "      Bottleneck-321           [-1, 2048, 7, 7]               0\n",
      "          Conv2d-322            [-1, 512, 7, 7]       1,048,576\n",
      "          Conv2d-323            [-1, 512, 7, 7]       1,048,576\n",
      "     BatchNorm2d-324            [-1, 512, 7, 7]           1,024\n",
      "     BatchNorm2d-325            [-1, 512, 7, 7]           1,024\n",
      "            ReLU-326            [-1, 512, 7, 7]               0\n",
      "            ReLU-327            [-1, 512, 7, 7]               0\n",
      "          Conv2d-328            [-1, 512, 7, 7]       2,359,296\n",
      "          Conv2d-329            [-1, 512, 7, 7]       2,359,296\n",
      "     BatchNorm2d-330            [-1, 512, 7, 7]           1,024\n",
      "     BatchNorm2d-331            [-1, 512, 7, 7]           1,024\n",
      "            ReLU-332            [-1, 512, 7, 7]               0\n",
      "            ReLU-333            [-1, 512, 7, 7]               0\n",
      "          Conv2d-334           [-1, 2048, 7, 7]       1,048,576\n",
      "          Conv2d-335           [-1, 2048, 7, 7]       1,048,576\n",
      "     BatchNorm2d-336           [-1, 2048, 7, 7]           4,096\n",
      "     BatchNorm2d-337           [-1, 2048, 7, 7]           4,096\n",
      "            ReLU-338           [-1, 2048, 7, 7]               0\n",
      "            ReLU-339           [-1, 2048, 7, 7]               0\n",
      "      Bottleneck-340           [-1, 2048, 7, 7]               0\n",
      "      Bottleneck-341           [-1, 2048, 7, 7]               0\n",
      "AdaptiveMaxPool2d-342           [-1, 2048, 1, 1]               0\n",
      "AdaptiveAvgPool2d-343           [-1, 2048, 1, 1]               0\n",
      "AdaptiveConcatPool2d-344           [-1, 4096, 1, 1]               0\n",
      "          Lambda-345                 [-1, 4096]               0\n",
      "     BatchNorm1d-346                 [-1, 4096]           8,192\n",
      "         Dropout-347                 [-1, 4096]               0\n",
      "          Linear-348                  [-1, 512]       2,097,664\n",
      "            ReLU-349                  [-1, 512]               0\n",
      "     BatchNorm1d-350                  [-1, 512]           1,024\n",
      "         Dropout-351                  [-1, 512]               0\n",
      "          Linear-352                   [-1, 28]          14,364\n",
      "================================================================\n",
      "Total params: 49,131,036\n",
      "Trainable params: 49,131,036\n",
      "Non-trainable params: 0\n",
      "----------------------------------------------------------------\n",
      "Input size (MB): 0.77\n",
      "Forward/backward pass size (MB): 559.46\n",
      "Params size (MB): 187.42\n",
      "Estimated Total Size (MB): 747.65\n",
      "----------------------------------------------------------------\n"
     ]
    }
   ],
   "source": [
    "device = torch.device(\"cuda\" if torch.cuda.is_available() else \"cpu\")\n",
    "model = Resnet4Channel(50).to(device)\n",
    "summary(model, (4, sz, sz))"
   ]
  },
  {
   "cell_type": "code",
   "execution_count": 8,
   "metadata": {},
   "outputs": [
    {
     "ename": "NameError",
     "evalue": "name 'model' is not defined",
     "output_type": "error",
     "traceback": [
      "\u001b[0;31m---------------------------------------------------------------------------\u001b[0m",
      "\u001b[0;31mNameError\u001b[0m                                 Traceback (most recent call last)",
      "\u001b[0;32m<ipython-input-8-1f8a688cae5d>\u001b[0m in \u001b[0;36m<module>\u001b[0;34m()\u001b[0m\n\u001b[0;32m----> 1\u001b[0;31m \u001b[0mmodel\u001b[0m\u001b[0;34m\u001b[0m\u001b[0m\n\u001b[0m",
      "\u001b[0;31mNameError\u001b[0m: name 'model' is not defined"
     ]
    }
   ],
   "source": [
    "model"
   ]
  },
  {
   "cell_type": "code",
   "execution_count": 15,
   "metadata": {},
   "outputs": [],
   "source": [
    "learn = ClassificationLearner(\n",
    "    data=data,\n",
    "    model=model,\n",
    "    loss_func=F.binary_cross_entropy_with_logits,\n",
    "    #loss_func=FocalLoss(),\n",
    "    path=STAGE_ONE_DATA,    \n",
    "    metrics=[f1_score]\n",
    ")\n",
    "\n",
    "#learn = create_cnn(data=data, arch=model, metrics=[f1_score])"
   ]
  },
  {
   "cell_type": "code",
   "execution_count": 16,
   "metadata": {},
   "outputs": [],
   "source": [
    "learn.unfreeze()"
   ]
  },
  {
   "cell_type": "code",
   "execution_count": 17,
   "metadata": {},
   "outputs": [
    {
     "name": "stdout",
     "output_type": "stream",
     "text": [
      "LR Finder is complete, type {learner_name}.recorder.plot() to see the graph.\n"
     ]
    }
   ],
   "source": [
    "learn.lr_find()"
   ]
  },
  {
   "cell_type": "code",
   "execution_count": 18,
   "metadata": {
    "scrolled": true
   },
   "outputs": [
    {
     "data": {
      "image/png": "[encoded data removed]",
      "text/plain": [
       "<Figure size 432x288 with 1 Axes>"
      ]
     },
     "metadata": {},
     "output_type": "display_data"
    }
   ],
   "source": [
    "learn.recorder.plot()"
   ]
  },
  {
   "cell_type": "code",
   "execution_count": 20,
   "metadata": {},
   "outputs": [],
   "source": [
    "lr = 1e-1"
   ]
  },
  {
   "cell_type": "code",
   "execution_count": 21,
   "metadata": {},
   "outputs": [],
   "source": [
    "#learn.freeze_to(-12)"
   ]
  },
  {
   "cell_type": "code",
   "execution_count": 22,
   "metadata": {},
   "outputs": [],
   "source": [
    "#learn.fit(1, lr)"
   ]
  },
  {
   "cell_type": "code",
   "execution_count": 23,
   "metadata": {},
   "outputs": [],
   "source": [
    "#learn.unfreeze()"
   ]
  },
  {
   "cell_type": "code",
   "execution_count": 24,
   "metadata": {
    "scrolled": true
   },
   "outputs": [
    {
     "name": "stdout",
     "output_type": "stream",
     "text": [
      "Total time: 1:42:50\n",
      "epoch  train_loss  valid_loss  fbeta    \n",
      "1      0.166507    0.169505    0.082455   (05:08)\n",
      "2      0.169886    0.367041    0.188674   (05:07)\n",
      "3      0.173509    2137.328125  0.159403  (05:05)\n",
      "4      0.184185    19.522430   0.259109   (05:10)\n",
      "5      0.204276    3.654228    0.013249   (05:08)\n",
      "6      0.220206    4671.480957  0.034348  (05:08)\n",
      "7      0.200705    936.429565  0.028875   (05:09)\n",
      "8      0.196299    0.241009    0.253770   (05:08)\n",
      "9      0.185453    1.045191    0.324202   (05:08)\n",
      "10     0.180938    6361.982910  0.184979  (05:09)\n",
      "11     0.175172    0.176103    0.348905   (05:09)\n",
      "12     0.173705    0.167588    0.216727   (05:07)\n",
      "13     0.164847    2.019491    0.273615   (05:09)\n",
      "14     0.155390    0.167999    0.296350   (05:09)\n",
      "15     0.150807    0.204263    0.281296   (05:09)\n",
      "16     0.148605    0.196750    0.184950   (05:07)\n",
      "17     0.138646    0.164029    0.352107   (05:08)\n",
      "18     0.136981    0.139933    0.407285   (05:09)\n",
      "19     0.133402    0.142661    0.398346   (05:07)\n",
      "20     0.131534    0.304731    0.386538   (05:08)\n",
      "\n"
     ]
    }
   ],
   "source": [
    "learn.fit_one_cycle(20, slice(lr))"
   ]
  },
  {
   "cell_type": "code",
   "execution_count": 25,
   "metadata": {},
   "outputs": [],
   "source": [
    "learn.save('resnet50_sz224_bs64_fastaiCustomHead')"
   ]
  },
  {
   "cell_type": "markdown",
   "metadata": {},
   "source": [
    "# Predictions"
   ]
  },
  {
   "cell_type": "code",
   "execution_count": 26,
   "metadata": {},
   "outputs": [
    {
     "name": "stderr",
     "output_type": "stream",
     "text": [
      "/opt/conda/lib/python3.6/site-packages/torch/nn/functional.py:1129: UserWarning: nn.functional.sigmoid is deprecated. Use torch.sigmoid instead.\n",
      "  warnings.warn(\"nn.functional.sigmoid is deprecated. Use torch.sigmoid instead.\")\n"
     ]
    }
   ],
   "source": [
    "preds,_ = learn.get_preds(DatasetType.Test)"
   ]
  },
  {
   "cell_type": "code",
   "execution_count": 27,
   "metadata": {},
   "outputs": [],
   "source": [
    "pred_labels = [' '.join(list([str(i) for i in np.nonzero(row>0.2)[0]])) for row in np.array(preds)]\n",
    "df = pd.DataFrame({'Id':df_test.Id,'Predicted':pred_labels})\n",
    "df.to_csv(SUBMISSIONS/'resnet50_sz224_bs64_fastaiCustomHead.csv', header=True, index=False)"
   ]
  },
  {
   "cell_type": "code",
   "execution_count": null,
   "metadata": {},
   "outputs": [],
   "source": []
  }
 ],
 "metadata": {
  "kernelspec": {
   "display_name": "Python 3",
   "language": "python",
   "name": "python3"
  },
  "language_info": {
   "codemirror_mode": {
    "name": "ipython",
    "version": 3
   },
   "file_extension": ".py",
   "mimetype": "text/x-python",
   "name": "python",
   "nbconvert_exporter": "python",
   "pygments_lexer": "ipython3",
   "version": "3.6.5"
  },
  "toc": {
   "base_numbering": 1,
   "nav_menu": {},
   "number_sections": true,
   "sideBar": true,
   "skip_h1_title": false,
   "title_cell": "Table of Contents",
   "title_sidebar": "Contents",
   "toc_cell": false,
   "toc_position": {
    "height": "calc(100% - 180px)",
    "left": "10px",
    "top": "150px",
    "width": "384px"
   },
   "toc_section_display": true,
   "toc_window_display": true
  }
 },
 "nbformat": 4,
 "nbformat_minor": 2
}
